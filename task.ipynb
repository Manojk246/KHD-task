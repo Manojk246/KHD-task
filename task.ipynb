{
 "cells": [
  {
   "cell_type": "code",
   "execution_count": 2,
   "id": "6a0a01ab",
   "metadata": {},
   "outputs": [
    {
     "data": {
      "text/html": [
       "<div>\n",
       "<style scoped>\n",
       "    .dataframe tbody tr th:only-of-type {\n",
       "        vertical-align: middle;\n",
       "    }\n",
       "\n",
       "    .dataframe tbody tr th {\n",
       "        vertical-align: top;\n",
       "    }\n",
       "\n",
       "    .dataframe thead th {\n",
       "        text-align: right;\n",
       "    }\n",
       "</style>\n",
       "<table border=\"1\" class=\"dataframe\">\n",
       "  <thead>\n",
       "    <tr style=\"text-align: right;\">\n",
       "      <th></th>\n",
       "      <th>Channel</th>\n",
       "      <th>Region</th>\n",
       "      <th>Fresh</th>\n",
       "      <th>Milk</th>\n",
       "      <th>Grocery</th>\n",
       "      <th>Frozen</th>\n",
       "      <th>Detergents_Paper</th>\n",
       "      <th>Delicassen</th>\n",
       "    </tr>\n",
       "  </thead>\n",
       "  <tbody>\n",
       "    <tr>\n",
       "      <th>0</th>\n",
       "      <td>2</td>\n",
       "      <td>3</td>\n",
       "      <td>9.446992</td>\n",
       "      <td>9.175438</td>\n",
       "      <td>8.930891</td>\n",
       "      <td>5.370638</td>\n",
       "      <td>7.891705</td>\n",
       "      <td>7.199678</td>\n",
       "    </tr>\n",
       "    <tr>\n",
       "      <th>1</th>\n",
       "      <td>2</td>\n",
       "      <td>3</td>\n",
       "      <td>8.861917</td>\n",
       "      <td>9.191259</td>\n",
       "      <td>9.166284</td>\n",
       "      <td>7.474772</td>\n",
       "      <td>8.099858</td>\n",
       "      <td>7.482682</td>\n",
       "    </tr>\n",
       "    <tr>\n",
       "      <th>2</th>\n",
       "      <td>2</td>\n",
       "      <td>3</td>\n",
       "      <td>8.756840</td>\n",
       "      <td>9.083529</td>\n",
       "      <td>8.947026</td>\n",
       "      <td>7.785721</td>\n",
       "      <td>8.165364</td>\n",
       "      <td>8.967632</td>\n",
       "    </tr>\n",
       "    <tr>\n",
       "      <th>3</th>\n",
       "      <td>1</td>\n",
       "      <td>3</td>\n",
       "      <td>9.492960</td>\n",
       "      <td>7.087574</td>\n",
       "      <td>8.348064</td>\n",
       "      <td>8.764834</td>\n",
       "      <td>6.230481</td>\n",
       "      <td>7.489412</td>\n",
       "    </tr>\n",
       "    <tr>\n",
       "      <th>4</th>\n",
       "      <td>2</td>\n",
       "      <td>3</td>\n",
       "      <td>10.026413</td>\n",
       "      <td>8.596189</td>\n",
       "      <td>8.881697</td>\n",
       "      <td>8.272826</td>\n",
       "      <td>7.483244</td>\n",
       "      <td>8.553718</td>\n",
       "    </tr>\n",
       "  </tbody>\n",
       "</table>\n",
       "</div>"
      ],
      "text/plain": [
       "   Channel  Region      Fresh      Milk   Grocery    Frozen  Detergents_Paper  \\\n",
       "0        2       3   9.446992  9.175438  8.930891  5.370638          7.891705   \n",
       "1        2       3   8.861917  9.191259  9.166284  7.474772          8.099858   \n",
       "2        2       3   8.756840  9.083529  8.947026  7.785721          8.165364   \n",
       "3        1       3   9.492960  7.087574  8.348064  8.764834          6.230481   \n",
       "4        2       3  10.026413  8.596189  8.881697  8.272826          7.483244   \n",
       "\n",
       "   Delicassen  \n",
       "0    7.199678  \n",
       "1    7.482682  \n",
       "2    8.967632  \n",
       "3    7.489412  \n",
       "4    8.553718  "
      ]
     },
     "execution_count": 2,
     "metadata": {},
     "output_type": "execute_result"
    }
   ],
   "source": [
    "import pandas as pd\n",
    "import matplotlib.pyplot as plt\n",
    "import seaborn as sns\n",
    "from sklearn.cluster import KMeans\n",
    "from sklearn.preprocessing import StandardScaler\n",
    "\n",
    "df=pd.read_csv('prediction.csv')\n",
    "\n",
    "if \"Unnamed: 0\" in df.columns:\n",
    "    df = df.drop(columns=[\"Unnamed: 0\"])\n",
    "df.head()"
   ]
  },
  {
   "cell_type": "code",
   "execution_count": 3,
   "id": "1c7b576d",
   "metadata": {},
   "outputs": [],
   "source": [
    "X = df.drop(columns=[\"Channel\", \"Region\"])\n",
    "\n",
    "scaler = StandardScaler()\n",
    "X_scaled = scaler.fit_transform(X)"
   ]
  },
  {
   "cell_type": "code",
   "execution_count": 4,
   "id": "0c10c1a0",
   "metadata": {},
   "outputs": [],
   "source": [
    "import warnings\n",
    "warnings.filterwarnings(\"ignore\", category=UserWarning)"
   ]
  },
  {
   "cell_type": "code",
   "execution_count": null,
   "id": "c1549561",
   "metadata": {},
   "outputs": [
    {
     "name": "stdout",
     "output_type": "stream",
     "text": [
      "k=2: Silhouette=0.290, Davies-Bouldin=1.352, Calinski-Harabasz=189.0\n",
      "k=3: Silhouette=0.259, Davies-Bouldin=1.341, Calinski-Harabasz=152.8\n",
      "k=4: Silhouette=0.188, Davies-Bouldin=1.541, Calinski-Harabasz=131.3\n",
      "k=5: Silhouette=0.192, Davies-Bouldin=1.484, Calinski-Harabasz=118.0\n",
      "k=6: Silhouette=0.201, Davies-Bouldin=1.432, Calinski-Harabasz=108.3\n",
      "k=7: Silhouette=0.196, Davies-Bouldin=1.392, Calinski-Harabasz=103.2\n",
      "k=8: Silhouette=0.185, Davies-Bouldin=1.441, Calinski-Harabasz=96.7\n",
      "k=9: Silhouette=0.197, Davies-Bouldin=1.383, Calinski-Harabasz=92.3\n",
      "k=10: Silhouette=0.191, Davies-Bouldin=1.344, Calinski-Harabasz=87.6\n"
     ]
    }
   ],
   "source": [
    "import numpy as np\n",
    "import matplotlib.pyplot as plt\n",
    "from sklearn.cluster import KMeans\n",
    "from sklearn.metrics import silhouette_score, davies_bouldin_score, calinski_harabasz_score\n",
    "\n",
    "sil_scores = []\n",
    "db_scores = []\n",
    "ch_scores = []\n",
    "K = range(2, 11)  \n",
    "\n",
    "for k in K:\n",
    "    kmeans = KMeans(n_clusters=k, random_state=42, n_init=10)\n",
    "    labels = kmeans.fit_predict(X_scaled)\n",
    "    \n",
    "    sil = silhouette_score(X_scaled, labels)\n",
    "    db = davies_bouldin_score(X_scaled, labels)\n",
    "    ch = calinski_harabasz_score(X_scaled, labels)\n",
    "    \n",
    "    sil_scores.append(sil)\n",
    "    db_scores.append(db)\n",
    "    ch_scores.append(ch)\n",
    "    \n",
    "    print(f\"k={k}: Silhouette={sil:.3f}, Davies-Bouldin={db:.3f}, Calinski-Harabasz={ch:.1f}\")\n"
   ]
  },
  {
   "cell_type": "code",
   "execution_count": 11,
   "id": "1db6897e",
   "metadata": {},
   "outputs": [
    {
     "name": "stdout",
     "output_type": "stream",
     "text": [
      "KMeans_Cluster\n",
      "2    213\n",
      "1    147\n",
      "0     80\n",
      "Name: count, dtype: int64\n",
      "Silhouette Score for k=3: 0.259\n",
      "Davies-Bouldin Score: 1.3405631342807725\n"
     ]
    }
   ],
   "source": [
    "from sklearn.metrics import silhouette_score\n",
    "from sklearn.decomposition import PCA\n",
    "\n",
    "from sklearn.metrics import silhouette_score, davies_bouldin_score, calinski_harabasz_score\n",
    "pca = PCA(n_components=2)\n",
    "pca_result = pca.fit_transform(X_scaled)\n",
    "kmeans = KMeans(n_clusters=3, random_state=42, n_init=10)\n",
    "k_labels = kmeans.fit_predict(X_scaled)\n",
    "df[\"KMeans_Cluster\"] = k_labels\n",
    "pca_df = pd.DataFrame(data=pca_result, columns=[\"PCA1\", \"PCA2\"])\n",
    "\n",
    "pca_df[\"Cluster\"] = kmeans.labels_\n",
    "print(df[\"KMeans_Cluster\"].value_counts())\n",
    "silhouette = silhouette_score(X_scaled, k_labels)\n",
    "davies = davies_bouldin_score(X_scaled, k_labels)\n",
    "print(f\"Silhouette Score for k=3: {silhouette:.3f}\")\n",
    "print(\"Davies-Bouldin Score:\", davies)"
   ]
  },
  {
   "cell_type": "code",
   "execution_count": 12,
   "id": "0e1a07a9",
   "metadata": {},
   "outputs": [
    {
     "data": {
      "image/png": "[encoded data removed]",
      "text/plain": [
       "<Figure size 800x600 with 1 Axes>"
      ]
     },
     "metadata": {},
     "output_type": "display_data"
    }
   ],
   "source": [
    "import seaborn as sns\n",
    "import matplotlib.pyplot as plt\n",
    "\n",
    "plt.figure(figsize=(8, 6))\n",
    "sns.scatterplot(\n",
    "    x=\"PCA1\",\n",
    "    y=\"PCA2\",\n",
    "    hue=\"Cluster\",\n",
    "    data=pca_df,\n",
    "    palette=\"viridis\",\n",
    "    s=60,\n",
    "    alpha=0.8,\n",
    "    edgecolor=\"k\"\n",
    ")\n",
    "\n",
    "plt.title(\"KMeans Clustering Visualized with PCA\", fontsize=14)\n",
    "plt.xlabel(\"Principal Component 1\")\n",
    "plt.ylabel(\"Principal Component 2\")\n",
    "plt.show()\n"
   ]
  },
  {
   "cell_type": "code",
   "execution_count": null,
   "id": "3a47b880",
   "metadata": {},
   "outputs": [
    {
     "data": {
      "application/vnd.plotly.v1+json": {
       "config": {
        "plotlyServerURL": "https://plot.ly"
       },
       "data": [
        {
         "hovertemplate": "Cluster=%{marker.color}<br>PCA1=%{x}<br>PCA2=%{y}<br>PCA3=%{z}<extra></extra>",
         "legendgroup": "1",
         "marker": {
          "color": [
           1,
           1,
           1,
           1,
           1,
           1,
           1,
           1,
           1,
           1,
           1,
           1,
           1,
           1,
           1,
           1,
           1,
           1,
           1,
           1,
           1,
           1,
           1,
           1,
           1,
           1,
           1,
           1,
           1,
           1,
           1,
           1,
           1,
           1,
           1,
           1,
           1,
           1,
           1,
           1,
           1,
           1,
           1,
           1,
           1,
           1,
           1,
           1,
           1,
           1,
           1,
           1,
           1,
           1,
           1,
           1,
           1,
           1,
           1,
           1,
           1,
           1,
           1,
           1,
           1,
           1,
           1,
           1,
           1,
           1,
           1,
           1,
           1,
           1,
           1,
           1,
           1,
           1,
           1,
           1,
           1,
           1,
           1,
           1,
           1,
           1,
           1,
           1,
           1,
           1,
           1,
           1,
           1,
           1,
           1,
           1,
           1,
           1,
           1,
           1,
           1,
           1,
           1,
           1,
           1,
           1,
           1,
           1,
           1,
           1,
           1,
           1,
           1,
           1,
           1,
           1,
           1,
           1,
           1,
           1,
           1,
           1,
           1,
           1,
           1,
           1,
           1,
           1,
           1,
           1,
           1,
           1,
           1,
           1,
           1,
           1,
           1,
           1,
           1,
           1,
           1,
           1,
           1,
           1,
           1,
           1,
           1
          ],
          "coloraxis": "coloraxis",
          "line": {
           "color": "black",
           "width": 0.5
          },
          "opacity": 0.8,
          "size": 5,
          "symbol": "circle"
         },
         "mode": "markers",
         "name": "1",
         "scene": "scene",
         "showlegend": true,
         "type": "scatter3d",
         "x": [
          1.3803827863658054,
          1.4388696446330935,
          1.5134525556437755,
          0.8028971082483904,
          0.886165464850308,
          0.6032560203667762,
          1.1526487141521788,
          2.196865574517631,
          1.4396377890823084,
          1.8828558831190856,
          1.3502890347643695,
          1.8157121344384488,
          0.1385886593528616,
          1.1933295569349192,
          0.5698299046383303,
          -0.016572934822419276,
          2.775683064778795,
          1.782658772736212,
          2.8943128764976023,
          0.934357733978433,
          -0.0904557357233655,
          0.365324372151145,
          1.6167162506278365,
          0.2569922421132899,
          0.5198432322952892,
          2.7167480781049584,
          2.3122550505828823,
          3.768865803960332,
          1.4654025954921037,
          2.809985444718891,
          0.5975473250532489,
          0.457384584241939,
          3.022665358068743,
          3.578793802146366,
          0.8840666716247358,
          1.926968204236474,
          1.407858757711909,
          0.41552924788080947,
          1.0521840135280236,
          0.20753520558629482,
          1.0784129252504928,
          2.4918618541472926,
          1.6157633977016288,
          4.28125279564807,
          3.522441856040816,
          0.8605756836169169,
          -0.038225538581974826,
          3.233311081737017,
          1.7196274712950816,
          2.124330833067575,
          1.2029975800627,
          0.28469000454942744,
          1.9432821334732033,
          2.048405838600744,
          0.8053769475989165,
          -0.22214178240876725,
          1.3069178918289706,
          1.0212625627586909,
          0.1733308204848674,
          0.45702979371649743,
          -0.01783368322200126,
          2.9268208030806635,
          1.908814126076829,
          1.4276091217788693,
          1.4031308329024683,
          2.424328685988736,
          0.9395492149482663,
          2.083038407448702,
          1.5678156193887942,
          0.19717312214773258,
          1.0710157652913246,
          2.274984102435909,
          1.833396681506113,
          1.348830826322551,
          -0.16418198906178053,
          0.18854948905177424,
          1.4987405737642336,
          2.2264162398547858,
          2.5399214719106635,
          0.7438719678215521,
          2.247526954357721,
          3.2102789003245804,
          1.149787752896865,
          2.0610797974235333,
          0.9861032030065366,
          0.34901160509024964,
          -0.3720907524801932,
          -0.17670513692032655,
          0.53327036996345,
          1.4395158848011997,
          3.1154236121081373,
          0.9266072585981122,
          1.1069523133687151,
          -0.38957299781818583,
          0.23355993451007817,
          1.5619108187176902,
          2.2120053519922123,
          1.7896475729227113,
          0.10314211399165779,
          1.2092158158396644,
          0.9829076847034035,
          -0.11403704012003688,
          0.4182542673307343,
          1.796088187333481,
          -0.003974239868691961,
          0.5634082466400154,
          1.1605336846141916,
          0.9743553855270893,
          2.2396372625237926,
          2.1488584022899686,
          2.6630148077061553,
          1.2834565469175763,
          2.450204780987886,
          1.3513744330049073,
          1.600859308652995,
          1.6828348818535863,
          1.2823480487247747,
          2.224036837264368,
          2.5416485519925374,
          0.18228262431517128,
          0.44025719444341965,
          1.3447366255879398,
          -0.008373997036047595,
          0.9617557638509688,
          1.5637082270514508,
          0.9537353413145799,
          1.3628150545240711,
          -0.29725124396410585,
          1.5605918137907917,
          0.036591276755472,
          1.9517474214983306,
          0.4301633075083019,
          0.6970085094621643,
          0.13896534034977656,
          0.31143782453351027,
          1.1670416816608622,
          1.807772677278614,
          1.0631087717477055,
          0.2097807182051676,
          0.629508009196495,
          1.6655962244008675,
          0.3575051576913997,
          0.6599715113742466,
          0.28892753131483556,
          0.6947438552818328,
          0.592201412632727,
          2.85257676760404
         ],
         "y": [
          -0.30472683260098177,
          0.5374682256112262,
          1.232564533406577,
          1.7660459621182898,
          0.12989417893346564,
          -0.46154812403864837,
          0.6076761527297401,
          0.3260495102954918,
          0.5542031070288191,
          0.5323381981943762,
          0.7078407147561541,
          0.27500093755032246,
          0.5408411511000458,
          1.2220421581153977,
          0.669507282847008,
          2.089245550523611,
          2.6216729357493835,
          1.7063200694547374,
          0.6138545610827255,
          0.8382841822186748,
          1.491382531816994,
          1.460874928978774,
          0.4905651873833141,
          2.2425467183658894,
          1.0613722477620868,
          0.8927684012873013,
          0.1096137695412889,
          2.609645580204104,
          0.07399152305820375,
          0.26378153007387095,
          0.4554417056742606,
          -0.09788164229993178,
          0.4475802545299234,
          1.5979068183956777,
          0.6609199722937245,
          0.7347862776710252,
          0.4227011593579735,
          0.920264891229696,
          2.0277099167911845,
          1.2312094026578941,
          0.42188002020971815,
          0.17296903426324742,
          0.39293795184642466,
          0.9022215129446679,
          0.6337944341131249,
          2.65933336875754,
          1.560700324936988,
          1.406147979778762,
          1.1711727710167608,
          -0.15969558083907529,
          0.19117350823370347,
          2.487964572537559,
          0.6614344968061328,
          0.3294633463863392,
          -0.17444140027933408,
          2.1881223341105387,
          0.8194724905322391,
          0.7465101513741321,
          -0.059874168596921934,
          1.1328053428630107,
          0.4700925206409548,
          -0.4223556893645737,
          -0.36566984316083806,
          -0.1991785560387621,
          -0.43410382242529344,
          0.003055503774928385,
          -0.27307583655054346,
          1.3960676056891388,
          0.35088892388837634,
          1.1011876392608155,
          0.24507952980945868,
          3.4460517005117213,
          4.23854681566951,
          0.1275956804238071,
          1.5954724455355935,
          2.4390663821419243,
          -0.22662287519183552,
          0.19603113472585895,
          0.6367340435242532,
          2.209807996570904,
          -0.24121501628823078,
          1.4563839313991198,
          -0.10595929851247399,
          0.1590313324929595,
          0.8640731444358146,
          1.5024274699574935,
          1.8002429464512428,
          1.9783675766108657,
          0.22676332780736916,
          0.31735910835170256,
          1.5607699831312614,
          0.42846570310283644,
          1.5019380068704593,
          2.198533781152204,
          1.2466765368543549,
          1.7293514046550045,
          -0.23603807138129015,
          0.0796234080799947,
          1.6136683339454,
          0.6833620609318223,
          0.5803974133075523,
          1.7227051943168148,
          2.274253504448601,
          -0.368032885419075,
          0.5589637551875154,
          -0.1316240606628479,
          -0.10035303806233067,
          0.53273052599232,
          0.4594891709320297,
          -0.21771407704897197,
          0.48338228551633244,
          3.3603843941043627,
          0.3659547015242537,
          0.9819864778304422,
          -0.2973747359789458,
          0.09243465822401922,
          1.0168788620846347,
          -0.04542855699156448,
          -0.0005285919784346627,
          1.5295170199153845,
          0.7211263281211778,
          0.4933818173563669,
          1.1752513688500126,
          0.9680937100577424,
          0.625368790395365,
          1.5366844133989332,
          1.669519249791468,
          1.4843284382033912,
          0.6588055243854767,
          1.5515454001308828,
          0.2920713406320513,
          -0.207296620326069,
          1.0879902664312662,
          0.2665298847117447,
          1.5623493939188924,
          0.5209248828924602,
          -0.24505202611913834,
          0.5594170325960824,
          0.1771675481441143,
          -0.387596581069044,
          1.0536090829348204,
          2.099433710842771,
          -0.2420518619716954,
          1.4494600587131423,
          0.04553748277394912,
          2.271129675336348,
          0.19460002308991814
         ],
         "z": [
          -0.24106170473520783,
          0.0842323034016607,
          0.98530593561988,
          0.3126979999724044,
          0.01894977547740722,
          -0.6731222244446705,
          0.30812795178637176,
          0.0699428417746406,
          0.3156151727351208,
          -0.3181053447132682,
          -1.117364639136737,
          -0.394557210392725,
          1.1246129715477964,
          0.029717863012766403,
          -0.0187047454375689,
          0.15012586964131042,
          0.5238532408396035,
          0.1512901415911289,
          0.6480255615873217,
          0.05283304360216994,
          -0.5011676367044722,
          0.2727800025385107,
          -0.8783075604393251,
          0.45704053814772777,
          0.06777911834482524,
          0.5522395297984022,
          0.12077420919561063,
          -0.5767149650690616,
          -0.2497908791015479,
          -0.3525784091511236,
          -0.694472809696467,
          0.16786603288869184,
          -0.24062558213558136,
          -1.1203777080523278,
          -0.2663383166333839,
          -0.39633800352437726,
          -0.8538129683973325,
          1.1299705332742012,
          0.8470816572972367,
          -0.7349391319237678,
          0.1170089924519404,
          -0.7602954135636038,
          0.06573406932239782,
          -0.655144227151085,
          -1.2928626909481977,
          0.5987679824720583,
          0.2166254072784683,
          0.13517265978210785,
          0.04082060888077548,
          0.6485346464969318,
          0.33773125993377484,
          -0.4928010570429517,
          -0.3115696401199688,
          -0.40239179141171216,
          -1.4682175247914129,
          -1.0843277609658415,
          -0.09813245392696852,
          0.25389571158819824,
          0.6191388487924137,
          0.1320063679136531,
          -0.09931709803272294,
          -0.13769217104434966,
          0.612555086541649,
          0.46113366509946424,
          0.8169056198584672,
          -0.9130802951195027,
          -0.9006205741542261,
          -0.3074965677332047,
          0.6448592191715612,
          -1.7400598452169254,
          0.2626996481989038,
          -0.4741206339004291,
          1.2803879452212668,
          -0.9032687814057613,
          0.0545452078366711,
          -0.05089180977719172,
          0.42988249008177387,
          -0.320443618489788,
          -0.07193379559634917,
          0.547425951380836,
          -0.48951277539028426,
          -0.3483985381749695,
          0.24972191653522377,
          0.524842646854781,
          -0.39326024254324443,
          0.20862995587062566,
          -0.2660305141744826,
          0.13234060487747618,
          0.29272333455419924,
          0.211833355441491,
          0.30637810670183635,
          -0.45001496201262287,
          0.3732135496310388,
          -0.07917898405885433,
          -1.0178652592792066,
          0.5931972860854838,
          1.233064308614631,
          -0.8108830004731535,
          -0.03496146351946212,
          -0.30152996733459014,
          0.054834829633936204,
          -0.6184755247506716,
          -0.5700125187075356,
          -0.25728312940904347,
          -0.04391197880440129,
          -0.549580492125831,
          -0.17863492603322226,
          -0.09876322552931312,
          -0.1707003160437512,
          1.0880663180808214,
          -0.3919025396623369,
          0.03588957402636322,
          -0.6571929792904162,
          -0.4081071154666706,
          0.6560693524330711,
          0.10688032557905117,
          -0.8726179899600006,
          -0.8947993401364708,
          0.9111324024249783,
          0.20242128504593843,
          1.8822845968627668,
          0.5934404254934722,
          -0.17822781563518159,
          0.19643460691397369,
          0.22071527995484277,
          -0.228026270580657,
          0.6615123942724233,
          -0.5169725759502987,
          0.38165490068576974,
          -0.5893358060707253,
          -0.7978197981995782,
          -0.7707671003036729,
          0.7576458850598977,
          0.41156208101606767,
          0.6165124692710738,
          0.1072069072300169,
          -0.1300424047623852,
          -0.23826762889288372,
          -0.629713042783382,
          -1.3316202581839658,
          -0.2553344911281095,
          -0.5664486928994658,
          0.8471271269998826,
          0.0876734988318887,
          -0.5752686703239615,
          -0.19166066805364612,
          -0.5243573089343034
         ]
        },
        {
         "hovertemplate": "Cluster=%{marker.color}<br>PCA1=%{x}<br>PCA2=%{y}<br>PCA3=%{z}<extra></extra>",
         "legendgroup": "2",
         "marker": {
          "color": [
           2,
           2,
           2,
           2,
           2,
           2,
           2,
           2,
           2,
           2,
           2,
           2,
           2,
           2,
           2,
           2,
           2,
           2,
           2,
           2,
           2,
           2,
           2,
           2,
           2,
           2,
           2,
           2,
           2,
           2,
           2,
           2,
           2,
           2,
           2,
           2,
           2,
           2,
           2,
           2,
           2,
           2,
           2,
           2,
           2,
           2,
           2,
           2,
           2,
           2,
           2,
           2,
           2,
           2,
           2,
           2,
           2,
           2,
           2,
           2,
           2,
           2,
           2,
           2,
           2,
           2,
           2,
           2,
           2,
           2,
           2,
           2,
           2,
           2,
           2,
           2,
           2,
           2,
           2,
           2,
           2,
           2,
           2,
           2,
           2,
           2,
           2,
           2,
           2,
           2,
           2,
           2,
           2,
           2,
           2,
           2,
           2,
           2,
           2,
           2,
           2,
           2,
           2,
           2,
           2,
           2,
           2,
           2,
           2,
           2,
           2,
           2,
           2,
           2,
           2,
           2,
           2,
           2,
           2,
           2,
           2,
           2,
           2,
           2,
           2,
           2,
           2,
           2,
           2,
           2,
           2,
           2,
           2,
           2,
           2,
           2,
           2,
           2,
           2,
           2,
           2,
           2,
           2,
           2,
           2,
           2,
           2,
           2,
           2,
           2,
           2,
           2,
           2,
           2,
           2,
           2,
           2,
           2,
           2,
           2,
           2,
           2,
           2,
           2,
           2,
           2,
           2,
           2,
           2,
           2,
           2,
           2,
           2,
           2,
           2,
           2,
           2,
           2,
           2,
           2,
           2,
           2,
           2,
           2,
           2,
           2,
           2,
           2,
           2,
           2,
           2,
           2,
           2,
           2,
           2,
           2,
           2,
           2,
           2,
           2,
           2,
           2,
           2,
           2,
           2,
           2,
           2,
           2,
           2,
           2,
           2,
           2,
           2
          ],
          "coloraxis": "coloraxis",
          "line": {
           "color": "black",
           "width": 0.5
          },
          "opacity": 0.8,
          "size": 5,
          "symbol": "diamond"
         },
         "mode": "markers",
         "name": "2",
         "scene": "scene",
         "showlegend": true,
         "type": "scatter3d",
         "x": [
          -0.8251053991359067,
          -0.8444768181721617,
          -0.6306354677133044,
          -1.5219215961763006,
          -1.402122257081539,
          -1.6468867167937247,
          -0.5712825184865795,
          -0.038305035775520434,
          -0.7197049307340078,
          -0.7111058902038465,
          -2.354814118250957,
          -1.0601692009648773,
          -1.415944254817652,
          -1.2978096544119126,
          -0.5990409337379203,
          -1.0771533140828211,
          -1.2893867055799342,
          -0.3575332897150207,
          -6.087092664211509,
          0.04142716319545304,
          -1.6263635840219068,
          -0.9891553826731743,
          -1.170337778562622,
          -2.216765310583805,
          -2.4856857273141295,
          -0.7079216240455135,
          -1.4504310129591733,
          -3.3888659858173225,
          -3.571329123262721,
          -1.4543508415727562,
          -0.3236126266265452,
          -1.1998229116739245,
          -1.3808547570062795,
          -0.6868512146193553,
          -0.8643728712488852,
          -1.7090096912686352,
          -1.4780008292563034,
          -0.9052244230310543,
          -0.1379233406197972,
          -1.0792928434090443,
          -1.1266331871244064,
          -1.2653107581836587,
          -1.199611772096193,
          -4.13043078279303,
          -0.9094487019129198,
          -1.479796281191072,
          -1.4893435296503212,
          -1.5408376574484266,
          -2.9953613284647145,
          -0.6590177836442156,
          -1.6825421831375857,
          -1.6218784598350893,
          -1.3848666203515962,
          0.02124930416212343,
          -1.613663818020875,
          -1.7492754188153654,
          -0.600585244519924,
          -1.5033758070462053,
          -0.2926902584567992,
          -2.555614502775802,
          -1.573822456997728,
          -1.2956744147977315,
          -0.4772002747971011,
          -1.3470217871074412,
          0.04560394768880475,
          -5.644452037992016,
          -1.0749764861875066,
          -3.9435560361753135,
          -0.9585234957218648,
          -2.532339269640629,
          -2.041057712631881,
          -0.7539443433231839,
          -0.6988178603850668,
          -0.36566234220903837,
          -0.41357642980315074,
          -1.5243075210593138,
          -1.83913783382418,
          -1.4340297039981347,
          -3.185821719481081,
          -1.2853783185490322,
          -1.0103189758252555,
          -0.31545464724658434,
          -0.9108749811957939,
          -2.041503866983373,
          -2.026550117678184,
          -1.2603770884378946,
          -1.3039463163301932,
          -1.5236582448054339,
          -2.798874170770301,
          -2.261339504183437,
          -1.487529441592583,
          -0.11323815853941747,
          -2.1877616876745223,
          -0.08972124574805844,
          -1.20241435297073,
          -1.5116076534103713,
          -0.652267079725244,
          -0.7870895655870547,
          -0.5163382503682186,
          -1.4495238120254967,
          -2.226125154796843,
          -3.0498451161208506,
          -0.9806919073996743,
          -1.4206661783804078,
          -0.9792177795535568,
          -3.3832268867833792,
          -0.273922592911082,
          -0.6845243830960562,
          -1.1662275415953096,
          -0.8136732569308833,
          -2.461293344517293,
          -0.03834454172039011,
          -0.4088387659377719,
          -0.17482426176423824,
          -2.577146247060142,
          -1.2897077891728426,
          -0.13369954494780342,
          -0.8118137284953686,
          -2.6725131912598514,
          -2.438290147822952,
          -0.718209997795367,
          -1.212705413937577,
          -0.5925492008549388,
          -2.5496593676528025,
          -2.38071050318255,
          -0.9723303733003491,
          -0.803137730214887,
          -0.946269771216821,
          -1.9075540728825207,
          -1.0974790884675703,
          -0.9669709917830023,
          -1.9434043397871896,
          -4.193785478776864,
          -0.20099477087213163,
          -0.7216028960453836,
          -0.10044691447709801,
          -0.8092745518148439,
          -1.2622072278808596,
          -0.7461411830975034,
          -1.124066116211265,
          -1.278556126246382,
          -0.671609126543463,
          -1.8073404131647528,
          -0.03459264332275868,
          -1.6189770298781512,
          -0.8548851434046096,
          -0.48298537898399957,
          -0.7059532661235024,
          -1.1604791465513715,
          -0.01789612397933612,
          -0.9866759516365439,
          -1.3017866640468214,
          -1.689365838313709,
          -0.9781376569919782,
          -0.7376624498122966,
          -0.8594400656127308,
          -1.075966517611613,
          -1.2803132354238105,
          -1.5972067259846168,
          -1.1777231044959757,
          -2.0301047591738874,
          -0.5822879038999409,
          -1.5955004517231712,
          -0.48230378377499894,
          -1.463433344074812,
          -1.8662323812317907,
          -4.869545237035306,
          -0.9354381371382594,
          -2.3465276106443023,
          -1.0515808658081085,
          -1.4193155029760827,
          -1.283199278254177,
          -2.2780284207411063,
          -1.7395633043756669,
          -3.254012545838706,
          -1.0766453157867997,
          -0.3422784787594495,
          -1.0904027604903548,
          -1.6336232795378687,
          -1.0530169614210665,
          -1.0114557404476134,
          -1.5511514930235646,
          -1.1448755600734482,
          -1.0139639558473699,
          -1.7407081361612753,
          -0.3881091070600623,
          -1.3571852325010483,
          -2.035522241433037,
          -1.5731068855635673,
          -1.5650523619198318,
          -0.9223499520372811,
          -0.4256808608301167,
          -1.5820515272641331,
          -1.4285973652155546,
          -2.021973388696803,
          -2.8338322911639042,
          -2.077835382363047,
          -1.9334112799344771,
          -1.416892893461152,
          -1.2337398032529774,
          -0.1939347090655477,
          -1.5922254683750343,
          -0.26097534000397743,
          -0.6498796563298805,
          0.04053619108792406,
          -0.4518529940547748,
          -1.294188913491777,
          0.16042602155153793,
          -0.6815526866342557,
          -0.4107703054109571,
          -0.7218512982963086,
          -2.1532243008896548,
          -1.0117667920942914
         ],
         "y": [
          1.2107896181052389,
          -0.022084171542164105,
          -0.8084564410591981,
          0.0762767889125958,
          0.4592588459135763,
          -0.4352235082572102,
          0.6347323202138918,
          -0.06230119704217321,
          -0.6751413502896,
          -1.464051852606565,
          2.146169658657222,
          0.7397865367302298,
          1.0010847697296137,
          -0.3454111932730788,
          0.3338785241352632,
          -0.8743296530196795,
          1.554630318831957,
          0.12426213529256216,
          1.1938681840604402,
          -0.03959421632744772,
          -0.3343294064711038,
          -0.8387164708149782,
          0.6153423267394442,
          -0.3495368561927167,
          0.1963731363489086,
          1.2398160330760377,
          2.299420715115442,
          -2.619196391113195,
          -2.266485667296624,
          0.43755409556948605,
          0.05677936194499636,
          0.3040126974316034,
          0.7439113828251548,
          1.7835896371607214,
          0.9514695538721,
          0.8213379739955825,
          0.2810913193876203,
          -0.2618922873515902,
          0.3135032316300358,
          1.0949041871713012,
          0.4803411132567863,
          0.7253925038095239,
          -0.36436151385047566,
          0.2586015610089474,
          1.4797746460099848,
          1.0105517417569796,
          1.0607654855480149,
          0.7864857364052691,
          -1.582068571663758,
          -0.5037556300413291,
          -0.7625538281346503,
          -0.3661225778161332,
          -0.5176021645243697,
          -0.19575233993331836,
          -0.8805198735402128,
          0.5848480487251521,
          -1.2373928284184894,
          -0.2578042887339416,
          -0.07799678249829547,
          0.04277328744322014,
          0.6050912845396612,
          0.25377936142683577,
          -0.7169701048501058,
          0.10568370307863498,
          -0.0611443913796063,
          -4.418146790651512,
          0.4382167243623891,
          0.5785637942680536,
          0.5182194544501745,
          -0.3826561686867576,
          0.0653408192035743,
          -0.7987853946744726,
          1.1115751608601787,
          0.004890345877692464,
          0.7491179921232989,
          0.01316247472255158,
          -0.156096334764764,
          0.2795143778794768,
          -1.0012380506153176,
          -0.8098065194549804,
          -0.1818485967316732,
          0.5627070117148689,
          -0.6507449597373357,
          -0.23916198460923807,
          -0.7718912470346805,
          0.9203241743612288,
          0.2439975571338822,
          0.814886285061436,
          -0.8643432011967432,
          0.365029873950678,
          0.2765145489883747,
          0.48403960252341194,
          -0.3927899014641357,
          -0.08414045216458568,
          -0.024275833573473016,
          -1.517679482123217,
          0.9155222104950697,
          0.17989712832833551,
          1.35512593895974,
          -0.3157311040272567,
          1.3137169886208386,
          -0.7197651716142303,
          0.81808280345047,
          0.5522686468185013,
          0.11730818826751654,
          0.25169369081700754,
          -0.1301781108155566,
          0.3828381118665183,
          -0.24355041410195657,
          1.084329808172772,
          0.7672154660743938,
          -0.5362810786644115,
          0.655655045035687,
          -0.6310123609985118,
          0.37420866283110243,
          0.19031762038451863,
          -0.3860091458078163,
          1.4534957189344404,
          -0.21693237945154312,
          -0.659280287294862,
          -0.16187289434738397,
          1.6534543086407496,
          -1.0124590127862128,
          -1.420696934238029,
          0.4162248131153117,
          1.1298647470551673,
          -0.24642199081446925,
          1.751371362306826,
          -1.112724669847309,
          -0.7017773485685457,
          1.2481917302406302,
          -0.5052584014396835,
          -0.8591759891195819,
          -0.6170691234637099,
          0.2333975426891607,
          0.23751819393545445,
          0.7299417694742711,
          -2.422670355714743,
          0.3587108795612136,
          -0.7056096216106981,
          1.125606485434513,
          0.16849974288039352,
          0.19895467274170942,
          0.3205843265274161,
          0.4403756574742217,
          -0.7080389995811042,
          -0.9037431327644326,
          0.5609415685176286,
          0.08318717779164866,
          -0.2322607662383603,
          1.0120092464236614,
          0.2310235417688696,
          -1.796462671321789,
          1.452889434352959,
          0.3908015347101974,
          0.689446922859301,
          1.2539077622771893,
          1.8404757580883015,
          -0.07626620200475606,
          0.9091352867680943,
          -2.1364645263206836,
          0.7710421809833464,
          -0.4639534904092866,
          -0.404703101540693,
          -0.10986875260248058,
          -1.8080231551572912,
          0.5258148628781006,
          0.551216210973143,
          -0.6074329309429826,
          -0.9429702538630703,
          -0.8345569132077725,
          -0.15518034770072256,
          -0.6824597543603728,
          0.48722511336812596,
          -0.6890880749319404,
          1.2009046069409075,
          0.36599671146544277,
          -0.046141024680944547,
          -1.5012615551328334,
          0.8436070533847346,
          -0.7765648485311277,
          0.4775333931086859,
          1.2340318678985096,
          -0.4309920389305067,
          0.5419332746990221,
          -0.39985980059857484,
          0.6898386251237494,
          -0.13283403126494328,
          0.40093536276743774,
          0.37466997287478987,
          -0.1526438629392101,
          -1.3369279558411562,
          -0.06887740674448642,
          -0.028250627654464316,
          0.9567103461187144,
          0.33313773263917995,
          -0.275243647111968,
          0.2924720043586292,
          2.0368269605627827,
          -0.41314750220871843,
          0.9214842720243607,
          -0.22577599261445905,
          0.3408920704970336,
          0.12019196805063984,
          0.01503657440371768,
          0.38087728552904865,
          1.7212355105611803,
          -0.4053557018183163,
          -0.9576921495297469,
          -0.7232885518952011,
          -0.1532855075058928,
          1.6972804904618826,
          0.45278454533107587
         ],
         "z": [
          0.2521406095207478,
          -0.4509863573279218,
          -0.4717352888566635,
          0.14379849824907986,
          0.11024962049523668,
          -0.1774730260025387,
          -0.7404683303274946,
          0.5350981994370032,
          -0.7718420352894526,
          0.4439513470551683,
          0.2303275899157305,
          0.7689877216868899,
          -0.025632481451149387,
          -0.34470379935990986,
          0.38160926123302763,
          -0.8701078194002145,
          0.16020437257337067,
          -0.7148500609337568,
          1.1360210521758416,
          0.9978114795358355,
          -0.8200517142776712,
          -0.06482680834228764,
          -0.32427520370176477,
          -1.382366557699014,
          -0.17806347780112675,
          -0.020377638587088416,
          0.7739781173560357,
          0.5331154050012954,
          0.8676355734987116,
          -0.4135599396427509,
          -0.5532588526425511,
          0.23711196624130554,
          0.4890579099396494,
          0.3352339546989843,
          0.1961120012828153,
          0.20572382421088764,
          -0.12077637059816497,
          -0.7853416832388901,
          0.25515701287337084,
          -0.22696857067345885,
          -0.004027257587311964,
          0.05130864401184442,
          -0.1718407304953245,
          0.7066096609268201,
          -0.21080460923623762,
          -0.521643984201756,
          -0.05585912812679145,
          0.3394955237588609,
          0.7092119637179155,
          -0.7564141670888216,
          -0.1645179195332621,
          0.19229783213306392,
          -0.18817854445661505,
          0.2148011484482282,
          -3.4420340998691112,
          -0.44545611483813413,
          -1.0482857909624046,
          0.09553356819752924,
          -0.35477417975117614,
          0.17912785174260032,
          0.05911328907010321,
          0.11097868268081604,
          1.40223166927677,
          -1.0941927307224217,
          0.808875148521768,
          -0.21201255700020133,
          -0.6800433225865269,
          1.378733833241434,
          -0.32816613047956616,
          0.2840605462743517,
          0.5179076579476444,
          1.9286669407640642,
          0.747542017245377,
          -0.45804048813847664,
          1.0294377897777782,
          -0.33550618801605603,
          0.5780814198739745,
          -1.57163567645656,
          -0.9236526961045166,
          0.02546955147515672,
          0.40130193358940197,
          -0.3275748889216874,
          -0.4225530505549411,
          1.456787193114062,
          -0.15209857805123994,
          0.4039667771757429,
          0.7195895836866368,
          0.12060573313744967,
          -0.2746564704717425,
          0.14767914944042831,
          -0.07447887894907947,
          0.6503719190544641,
          0.38290654222882514,
          -0.2656712454997406,
          0.4052098743337981,
          -0.05541228657997083,
          0.06878841421926161,
          -0.37841869946049117,
          0.39827049435562156,
          -0.6184884435616549,
          0.3818028075151442,
          -0.12129884072108578,
          -0.24511875537330807,
          -0.4430529836437145,
          -0.0810953279975086,
          0.32688291109160844,
          -0.46567232723588586,
          -0.6107712537204829,
          0.5331445319781981,
          0.5822895164276465,
          -0.35161563806176704,
          -0.5995396032707198,
          -0.04675502706433508,
          -0.2685056353543683,
          -0.10922200126432936,
          -0.40413900312345086,
          -0.02877512608589434,
          0.4738841104410243,
          -0.698813781682728,
          -0.9360902328370413,
          1.1723424548591261,
          -0.012633740369772337,
          1.2436727876442628,
          1.2334177977794842,
          -0.8097651066427993,
          0.2622502674875829,
          0.744999759207878,
          -0.11926854807166005,
          -2.6757989421610664,
          -0.932862466984134,
          -0.08585429146527533,
          -0.6844153445064332,
          -1.9990192458583291,
          0.8362828227675532,
          0.13586132963948783,
          0.5138237083166656,
          -0.3081640025877917,
          0.8713089756223512,
          -0.1621977043977335,
          0.14423818269392782,
          0.36699023400674474,
          -1.7033758385981894,
          -0.4127664920291088,
          0.004293002907720436,
          0.5218507190864738,
          -1.7408042297870774,
          0.8096869210959916,
          0.19896237857906665,
          -1.0298543908349473,
          -0.6025450157476857,
          -0.16139599143275643,
          0.45404403132709603,
          1.33248876325393,
          0.14363744506643308,
          0.15361195621079382,
          0.16043575892860978,
          0.4368680798260227,
          0.6323390005474978,
          0.06781209487938535,
          0.06013827747825492,
          3.5352317866687066,
          0.956552662556952,
          0.24493365919301724,
          0.2538944310482023,
          0.7422681434301923,
          0.7126665573652069,
          0.32959479735528013,
          -0.5791203048105986,
          0.26650669948007355,
          0.7399896989953665,
          0.37792308474980146,
          -0.18944088850253926,
          0.2807354961781929,
          -0.3544168270405548,
          0.19884824927237715,
          -0.3694838512760868,
          1.4409092988202374,
          0.18509128988344092,
          -1.0157063674411175,
          -0.20619061394435434,
          0.9135680201561344,
          -1.0516450025548973,
          -0.4551167792270518,
          0.27019621631489366,
          0.2811004613593436,
          0.9839199704841072,
          -0.09725840795503023,
          -0.13965280682544315,
          0.08319032777384648,
          0.7238065121729089,
          1.208016303168124,
          1.2357397601924978,
          -0.2666402885310499,
          -0.5354397993727651,
          0.16663103406654253,
          -0.3196627031470459,
          -0.2215604471653776,
          0.7247822235652006,
          0.18536005701996372,
          -0.5942657987061766,
          -0.5269789493269866,
          -0.1704953990811767,
          1.624936471805327,
          -0.5221329177149902,
          0.2410111466710117,
          -0.31051710629473694,
          0.5302889669799685,
          -0.24857918724580985,
          0.912611017148976,
          -0.8699923926570243,
          1.083619990170221,
          0.3284972822108165,
          0.6604578751679291
         ]
        },
        {
         "hovertemplate": "Cluster=%{marker.color}<br>PCA1=%{x}<br>PCA2=%{y}<br>PCA3=%{z}<extra></extra>",
         "legendgroup": "0",
         "marker": {
          "color": [
           0,
           0,
           0,
           0,
           0,
           0,
           0,
           0,
           0,
           0,
           0,
           0,
           0,
           0,
           0,
           0,
           0,
           0,
           0,
           0,
           0,
           0,
           0,
           0,
           0,
           0,
           0,
           0,
           0,
           0,
           0,
           0,
           0,
           0,
           0,
           0,
           0,
           0,
           0,
           0,
           0,
           0,
           0,
           0,
           0,
           0,
           0,
           0,
           0,
           0,
           0,
           0,
           0,
           0,
           0,
           0,
           0,
           0,
           0,
           0,
           0,
           0,
           0,
           0,
           0,
           0,
           0,
           0,
           0,
           0,
           0,
           0,
           0,
           0,
           0,
           0,
           0,
           0,
           0,
           0
          ],
          "coloraxis": "coloraxis",
          "line": {
           "color": "black",
           "width": 0.5
          },
          "opacity": 0.8,
          "size": 5,
          "symbol": "square"
         },
         "mode": "markers",
         "name": "0",
         "scene": "scene",
         "showlegend": true,
         "type": "scatter3d",
         "x": [
          0.5300120664774196,
          1.940972379386705,
          0.5464702992559822,
          0.5664784057970227,
          1.3193478630695057,
          2.4262454868568937,
          1.383094176219319,
          2.0465959558922613,
          0.9847356616137113,
          0.5621876238123635,
          1.6803209282639626,
          2.1361693101755077,
          1.298361390827825,
          0.775949516938475,
          3.9652466111156266,
          0.42195643798486776,
          0.2340593608483119,
          1.956638222061582,
          0.15170867899654236,
          1.6911485219569662,
          0.2769161446015857,
          1.0701190764288246,
          1.9080326135048062,
          1.370923528072669,
          1.0432049685159175,
          0.08945194567651034,
          0.2999280953504849,
          2.59290709154819,
          1.908180001910221,
          0.1707869379320712,
          1.7984244335912916,
          3.1873509416751644,
          1.0721337623520306,
          2.1478563215188315,
          1.9647173554198183,
          1.5683165622840856,
          -1.1220612285046483,
          0.2935891434071047,
          2.042556230277206,
          1.6434848049256952,
          -1.4818779856520399,
          2.372536730391871,
          0.5669482708799292,
          0.6821892536444317,
          1.530725733572428,
          3.0008571214824857,
          2.3338162297158545,
          1.4400869328794164,
          0.6577580831016855,
          -0.8046251741068924,
          0.11237611406329501,
          2.072433772999951,
          2.310120055702228,
          0.2671243214894968,
          0.001889893492528974,
          1.9285547996869472,
          1.3880351460548062,
          1.143894515408185,
          2.6359286178419894,
          1.566599102357367,
          2.2635723886102794,
          1.5456040966349796,
          0.3579369374383145,
          3.0941177024762534,
          1.5809786874872223,
          1.3953793312127543,
          1.7711792335730767,
          0.7439963317781036,
          2.3708003493474084,
          -1.5646521247564413,
          1.2686786442427544,
          -0.2548192627554629,
          -0.413835424980938,
          0.6480566578711324,
          0.4770957319668478,
          1.0985924932938609,
          1.3489771015972816,
          2.250124305819859,
          1.9744528802165089,
          -0.9156408925598087
         ],
         "y": [
          -0.6301380623446862,
          -1.6543031290006283,
          -0.5447134562474506,
          -1.641226428955328,
          -1.4003073405670312,
          -2.007789557634491,
          -1.8729974107944776,
          -2.146594711795687,
          -1.285206352414628,
          -1.4832469661488028,
          -1.792186631589759,
          -1.4913257720268618,
          -0.832377818716726,
          -1.7170177130317754,
          -3.101851461555268,
          -5.091318627636234,
          -0.4930040787709181,
          -2.7338300970852836,
          -0.6767441910442363,
          -1.3442410377109084,
          -3.5169127978163637,
          -3.9233165857642036,
          -1.3562756713439865,
          -1.1345931297117884,
          -2.936762835932479,
          -4.653280666588694,
          -1.7938372867629608,
          -0.8678516495645809,
          -2.1405919990606392,
          -0.9828421472034868,
          -1.7441231803779202,
          -0.7601388520982608,
          -1.473236676080187,
          -1.2567611113436454,
          -1.5770702133292342,
          -2.0726840967843305,
          -4.392765176629825,
          -1.8324249161693154,
          -1.1453630933401089,
          -1.7700998551654483,
          -3.20269294023834,
          -0.8899767925630527,
          -0.8452848513274186,
          -0.4909081710496185,
          -0.6114651096837683,
          -1.322433000596076,
          -1.5132973506085439,
          -1.7948553521895778,
          -0.4800460112029784,
          -2.760084783733114,
          -0.9133586647175952,
          -0.650614572407067,
          -1.9290744318792037,
          -1.1584922263401047,
          -1.0750406469312157,
          -0.5288187777781225,
          -1.126028840987037,
          -2.0090026950933852,
          -1.4286412489657203,
          -2.023244376031317,
          -0.6309981199778043,
          -1.315888401008035,
          -0.5671150677137567,
          -0.9292734476126286,
          -1.5793693045393584,
          -1.7362938285638267,
          -1.8131932836906262,
          -1.7478662791248187,
          -2.3386769107800394,
          -3.0919031867974387,
          -4.158059594984573,
          -1.3804179171707645,
          -1.602941202261814,
          -1.8436683069731408,
          -0.8111169349318219,
          -3.997587372761173,
          -0.6058933339072304,
          -1.991356611593188,
          -1.797510996351454,
          -2.9182610774233173
         ],
         "z": [
          -0.10707160633844245,
          0.6313955960397242,
          -0.5265191093000744,
          -2.10153158756747,
          0.3137159457076559,
          -0.6419523487114487,
          -2.2295970347869147,
          -0.887920568544351,
          -1.911427722160122,
          -0.36712212084367973,
          0.007692890917938946,
          -0.029778769733514295,
          0.2003844318466355,
          -1.0341332209261784,
          1.4696181438683518,
          0.7969899487038905,
          0.9992056568257193,
          0.11276794324255394,
          -1.506856455987751,
          -0.9799951381531793,
          3.294293898315882,
          1.5119871710280441,
          0.7626350207264185,
          0.6586212475912572,
          -2.632887250575207,
          -1.346876071329033,
          -1.5074019368056142,
          0.5389683462857869,
          0.27737421941630497,
          0.2475115878568584,
          0.45037829741261176,
          2.088839118624384,
          0.5678262275408215,
          0.525917173933025,
          0.5575767581519593,
          -0.3356115155083645,
          -0.8220642114375598,
          -2.8948325537357324,
          1.0118581790455548,
          1.0565721612260242,
          -0.857304690209503,
          0.14445905555711744,
          -0.9415167201842172,
          0.42504259435226605,
          0.05504006351570707,
          -0.3355677878093879,
          3.302231349427986,
          -0.8971500625597782,
          0.03557012875635173,
          -1.6583494311513598,
          -0.039046485949399475,
          0.6040141147153382,
          0.6425189877790732,
          1.4099514766857948,
          -0.7833033765414386,
          -1.3250768700446542,
          -0.18874401973333402,
          -1.471985030027635,
          1.671818655614248,
          0.3379764681264735,
          0.353090796631214,
          -1.0166294264877367,
          1.1206582245183345,
          -0.6444636244546347,
          1.200642090544431,
          1.4468108125290127,
          -1.7298045977024417,
          -0.022695431756706526,
          1.4576373621730012,
          0.9112730415498413,
          0.7965519684143766,
          1.1221712266008406,
          -0.313944243740226,
          -0.7202964252601681,
          -1.1813730234547946,
          0.1666022064271951,
          -0.018036256620707354,
          0.5392521862717792,
          0.1362305675192927,
          -0.9249211044872756
         ]
        }
       ],
       "layout": {
        "coloraxis": {
         "colorbar": {
          "title": {
           "text": "Cluster"
          }
         },
         "colorscale": [
          [
           0,
           "#0d0887"
          ],
          [
           0.1111111111111111,
           "#46039f"
          ],
          [
           0.2222222222222222,
           "#7201a8"
          ],
          [
           0.3333333333333333,
           "#9c179e"
          ],
          [
           0.4444444444444444,
           "#bd3786"
          ],
          [
           0.5555555555555556,
           "#d8576b"
          ],
          [
           0.6666666666666666,
           "#ed7953"
          ],
          [
           0.7777777777777778,
           "#fb9f3a"
          ],
          [
           0.8888888888888888,
           "#fdca26"
          ],
          [
           1,
           "#f0f921"
          ]
         ]
        },
        "legend": {
         "title": {
          "text": "Cluster"
         },
         "tracegroupgap": 0
        },
        "margin": {
         "t": 60
        },
        "scene": {
         "domain": {
          "x": [
           0,
           1
          ],
          "y": [
           0,
           1
          ]
         },
         "xaxis": {
          "title": {
           "text": "Principal Component 1"
          }
         },
         "yaxis": {
          "title": {
           "text": "Principal Component 2"
          }
         },
         "zaxis": {
          "title": {
           "text": "Principal Component 3"
          }
         }
        },
        "template": {
         "data": {
          "bar": [
           {
            "error_x": {
             "color": "#2a3f5f"
            },
            "error_y": {
             "color": "#2a3f5f"
            },
            "marker": {
             "line": {
              "color": "#E5ECF6",
              "width": 0.5
             },
             "pattern": {
              "fillmode": "overlay",
              "size": 10,
              "solidity": 0.2
             }
            },
            "type": "bar"
           }
          ],
          "barpolar": [
           {
            "marker": {
             "line": {
              "color": "#E5ECF6",
              "width": 0.5
             },
             "pattern": {
              "fillmode": "overlay",
              "size": 10,
              "solidity": 0.2
             }
            },
            "type": "barpolar"
           }
          ],
          "carpet": [
           {
            "aaxis": {
             "endlinecolor": "#2a3f5f",
             "gridcolor": "white",
             "linecolor": "white",
             "minorgridcolor": "white",
             "startlinecolor": "#2a3f5f"
            },
            "baxis": {
             "endlinecolor": "#2a3f5f",
             "gridcolor": "white",
             "linecolor": "white",
             "minorgridcolor": "white",
             "startlinecolor": "#2a3f5f"
            },
            "type": "carpet"
           }
          ],
          "choropleth": [
           {
            "colorbar": {
             "outlinewidth": 0,
             "ticks": ""
            },
            "type": "choropleth"
           }
          ],
          "contour": [
           {
            "colorbar": {
             "outlinewidth": 0,
             "ticks": ""
            },
            "colorscale": [
             [
              0,
              "#0d0887"
             ],
             [
              0.1111111111111111,
              "#46039f"
             ],
             [
              0.2222222222222222,
              "#7201a8"
             ],
             [
              0.3333333333333333,
              "#9c179e"
             ],
             [
              0.4444444444444444,
              "#bd3786"
             ],
             [
              0.5555555555555556,
              "#d8576b"
             ],
             [
              0.6666666666666666,
              "#ed7953"
             ],
             [
              0.7777777777777778,
              "#fb9f3a"
             ],
             [
              0.8888888888888888,
              "#fdca26"
             ],
             [
              1,
              "#f0f921"
             ]
            ],
            "type": "contour"
           }
          ],
          "contourcarpet": [
           {
            "colorbar": {
             "outlinewidth": 0,
             "ticks": ""
            },
            "type": "contourcarpet"
           }
          ],
          "heatmap": [
           {
            "colorbar": {
             "outlinewidth": 0,
             "ticks": ""
            },
            "colorscale": [
             [
              0,
              "#0d0887"
             ],
             [
              0.1111111111111111,
              "#46039f"
             ],
             [
              0.2222222222222222,
              "#7201a8"
             ],
             [
              0.3333333333333333,
              "#9c179e"
             ],
             [
              0.4444444444444444,
              "#bd3786"
             ],
             [
              0.5555555555555556,
              "#d8576b"
             ],
             [
              0.6666666666666666,
              "#ed7953"
             ],
             [
              0.7777777777777778,
              "#fb9f3a"
             ],
             [
              0.8888888888888888,
              "#fdca26"
             ],
             [
              1,
              "#f0f921"
             ]
            ],
            "type": "heatmap"
           }
          ],
          "heatmapgl": [
           {
            "colorbar": {
             "outlinewidth": 0,
             "ticks": ""
            },
            "colorscale": [
             [
              0,
              "#0d0887"
             ],
             [
              0.1111111111111111,
              "#46039f"
             ],
             [
              0.2222222222222222,
              "#7201a8"
             ],
             [
              0.3333333333333333,
              "#9c179e"
             ],
             [
              0.4444444444444444,
              "#bd3786"
             ],
             [
              0.5555555555555556,
              "#d8576b"
             ],
             [
              0.6666666666666666,
              "#ed7953"
             ],
             [
              0.7777777777777778,
              "#fb9f3a"
             ],
             [
              0.8888888888888888,
              "#fdca26"
             ],
             [
              1,
              "#f0f921"
             ]
            ],
            "type": "heatmapgl"
           }
          ],
          "histogram": [
           {
            "marker": {
             "pattern": {
              "fillmode": "overlay",
              "size": 10,
              "solidity": 0.2
             }
            },
            "type": "histogram"
           }
          ],
          "histogram2d": [
           {
            "colorbar": {
             "outlinewidth": 0,
             "ticks": ""
            },
            "colorscale": [
             [
              0,
              "#0d0887"
             ],
             [
              0.1111111111111111,
              "#46039f"
             ],
             [
              0.2222222222222222,
              "#7201a8"
             ],
             [
              0.3333333333333333,
              "#9c179e"
             ],
             [
              0.4444444444444444,
              "#bd3786"
             ],
             [
              0.5555555555555556,
              "#d8576b"
             ],
             [
              0.6666666666666666,
              "#ed7953"
             ],
             [
              0.7777777777777778,
              "#fb9f3a"
             ],
             [
              0.8888888888888888,
              "#fdca26"
             ],
             [
              1,
              "#f0f921"
             ]
            ],
            "type": "histogram2d"
           }
          ],
          "histogram2dcontour": [
           {
            "colorbar": {
             "outlinewidth": 0,
             "ticks": ""
            },
            "colorscale": [
             [
              0,
              "#0d0887"
             ],
             [
              0.1111111111111111,
              "#46039f"
             ],
             [
              0.2222222222222222,
              "#7201a8"
             ],
             [
              0.3333333333333333,
              "#9c179e"
             ],
             [
              0.4444444444444444,
              "#bd3786"
             ],
             [
              0.5555555555555556,
              "#d8576b"
             ],
             [
              0.6666666666666666,
              "#ed7953"
             ],
             [
              0.7777777777777778,
              "#fb9f3a"
             ],
             [
              0.8888888888888888,
              "#fdca26"
             ],
             [
              1,
              "#f0f921"
             ]
            ],
            "type": "histogram2dcontour"
           }
          ],
          "mesh3d": [
           {
            "colorbar": {
             "outlinewidth": 0,
             "ticks": ""
            },
            "type": "mesh3d"
           }
          ],
          "parcoords": [
           {
            "line": {
             "colorbar": {
              "outlinewidth": 0,
              "ticks": ""
             }
            },
            "type": "parcoords"
           }
          ],
          "pie": [
           {
            "automargin": true,
            "type": "pie"
           }
          ],
          "scatter": [
           {
            "fillpattern": {
             "fillmode": "overlay",
             "size": 10,
             "solidity": 0.2
            },
            "type": "scatter"
           }
          ],
          "scatter3d": [
           {
            "line": {
             "colorbar": {
              "outlinewidth": 0,
              "ticks": ""
             }
            },
            "marker": {
             "colorbar": {
              "outlinewidth": 0,
              "ticks": ""
             }
            },
            "type": "scatter3d"
           }
          ],
          "scattercarpet": [
           {
            "marker": {
             "colorbar": {
              "outlinewidth": 0,
              "ticks": ""
             }
            },
            "type": "scattercarpet"
           }
          ],
          "scattergeo": [
           {
            "marker": {
             "colorbar": {
              "outlinewidth": 0,
              "ticks": ""
             }
            },
            "type": "scattergeo"
           }
          ],
          "scattergl": [
           {
            "marker": {
             "colorbar": {
              "outlinewidth": 0,
              "ticks": ""
             }
            },
            "type": "scattergl"
           }
          ],
          "scattermapbox": [
           {
            "marker": {
             "colorbar": {
              "outlinewidth": 0,
              "ticks": ""
             }
            },
            "type": "scattermapbox"
           }
          ],
          "scatterpolar": [
           {
            "marker": {
             "colorbar": {
              "outlinewidth": 0,
              "ticks": ""
             }
            },
            "type": "scatterpolar"
           }
          ],
          "scatterpolargl": [
           {
            "marker": {
             "colorbar": {
              "outlinewidth": 0,
              "ticks": ""
             }
            },
            "type": "scatterpolargl"
           }
          ],
          "scatterternary": [
           {
            "marker": {
             "colorbar": {
              "outlinewidth": 0,
              "ticks": ""
             }
            },
            "type": "scatterternary"
           }
          ],
          "surface": [
           {
            "colorbar": {
             "outlinewidth": 0,
             "ticks": ""
            },
            "colorscale": [
             [
              0,
              "#0d0887"
             ],
             [
              0.1111111111111111,
              "#46039f"
             ],
             [
              0.2222222222222222,
              "#7201a8"
             ],
             [
              0.3333333333333333,
              "#9c179e"
             ],
             [
              0.4444444444444444,
              "#bd3786"
             ],
             [
              0.5555555555555556,
              "#d8576b"
             ],
             [
              0.6666666666666666,
              "#ed7953"
             ],
             [
              0.7777777777777778,
              "#fb9f3a"
             ],
             [
              0.8888888888888888,
              "#fdca26"
             ],
             [
              1,
              "#f0f921"
             ]
            ],
            "type": "surface"
           }
          ],
          "table": [
           {
            "cells": {
             "fill": {
              "color": "#EBF0F8"
             },
             "line": {
              "color": "white"
             }
            },
            "header": {
             "fill": {
              "color": "#C8D4E3"
             },
             "line": {
              "color": "white"
             }
            },
            "type": "table"
           }
          ]
         },
         "layout": {
          "annotationdefaults": {
           "arrowcolor": "#2a3f5f",
           "arrowhead": 0,
           "arrowwidth": 1
          },
          "autotypenumbers": "strict",
          "coloraxis": {
           "colorbar": {
            "outlinewidth": 0,
            "ticks": ""
           }
          },
          "colorscale": {
           "diverging": [
            [
             0,
             "#8e0152"
            ],
            [
             0.1,
             "#c51b7d"
            ],
            [
             0.2,
             "#de77ae"
            ],
            [
             0.3,
             "#f1b6da"
            ],
            [
             0.4,
             "#fde0ef"
            ],
            [
             0.5,
             "#f7f7f7"
            ],
            [
             0.6,
             "#e6f5d0"
            ],
            [
             0.7,
             "#b8e186"
            ],
            [
             0.8,
             "#7fbc41"
            ],
            [
             0.9,
             "#4d9221"
            ],
            [
             1,
             "#276419"
            ]
           ],
           "sequential": [
            [
             0,
             "#0d0887"
            ],
            [
             0.1111111111111111,
             "#46039f"
            ],
            [
             0.2222222222222222,
             "#7201a8"
            ],
            [
             0.3333333333333333,
             "#9c179e"
            ],
            [
             0.4444444444444444,
             "#bd3786"
            ],
            [
             0.5555555555555556,
             "#d8576b"
            ],
            [
             0.6666666666666666,
             "#ed7953"
            ],
            [
             0.7777777777777778,
             "#fb9f3a"
            ],
            [
             0.8888888888888888,
             "#fdca26"
            ],
            [
             1,
             "#f0f921"
            ]
           ],
           "sequentialminus": [
            [
             0,
             "#0d0887"
            ],
            [
             0.1111111111111111,
             "#46039f"
            ],
            [
             0.2222222222222222,
             "#7201a8"
            ],
            [
             0.3333333333333333,
             "#9c179e"
            ],
            [
             0.4444444444444444,
             "#bd3786"
            ],
            [
             0.5555555555555556,
             "#d8576b"
            ],
            [
             0.6666666666666666,
             "#ed7953"
            ],
            [
             0.7777777777777778,
             "#fb9f3a"
            ],
            [
             0.8888888888888888,
             "#fdca26"
            ],
            [
             1,
             "#f0f921"
            ]
           ]
          },
          "colorway": [
           "#636efa",
           "#EF553B",
           "#00cc96",
           "#ab63fa",
           "#FFA15A",
           "#19d3f3",
           "#FF6692",
           "#B6E880",
           "#FF97FF",
           "#FECB52"
          ],
          "font": {
           "color": "#2a3f5f"
          },
          "geo": {
           "bgcolor": "white",
           "lakecolor": "white",
           "landcolor": "#E5ECF6",
           "showlakes": true,
           "showland": true,
           "subunitcolor": "white"
          },
          "hoverlabel": {
           "align": "left"
          },
          "hovermode": "closest",
          "mapbox": {
           "style": "light"
          },
          "paper_bgcolor": "white",
          "plot_bgcolor": "#E5ECF6",
          "polar": {
           "angularaxis": {
            "gridcolor": "white",
            "linecolor": "white",
            "ticks": ""
           },
           "bgcolor": "#E5ECF6",
           "radialaxis": {
            "gridcolor": "white",
            "linecolor": "white",
            "ticks": ""
           }
          },
          "scene": {
           "xaxis": {
            "backgroundcolor": "#E5ECF6",
            "gridcolor": "white",
            "gridwidth": 2,
            "linecolor": "white",
            "showbackground": true,
            "ticks": "",
            "zerolinecolor": "white"
           },
           "yaxis": {
            "backgroundcolor": "#E5ECF6",
            "gridcolor": "white",
            "gridwidth": 2,
            "linecolor": "white",
            "showbackground": true,
            "ticks": "",
            "zerolinecolor": "white"
           },
           "zaxis": {
            "backgroundcolor": "#E5ECF6",
            "gridcolor": "white",
            "gridwidth": 2,
            "linecolor": "white",
            "showbackground": true,
            "ticks": "",
            "zerolinecolor": "white"
           }
          },
          "shapedefaults": {
           "line": {
            "color": "#2a3f5f"
           }
          },
          "ternary": {
           "aaxis": {
            "gridcolor": "white",
            "linecolor": "white",
            "ticks": ""
           },
           "baxis": {
            "gridcolor": "white",
            "linecolor": "white",
            "ticks": ""
           },
           "bgcolor": "#E5ECF6",
           "caxis": {
            "gridcolor": "white",
            "linecolor": "white",
            "ticks": ""
           }
          },
          "title": {
           "x": 0.05
          },
          "xaxis": {
           "automargin": true,
           "gridcolor": "white",
           "linecolor": "white",
           "ticks": "",
           "title": {
            "standoff": 15
           },
           "zerolinecolor": "white",
           "zerolinewidth": 2
          },
          "yaxis": {
           "automargin": true,
           "gridcolor": "white",
           "linecolor": "white",
           "ticks": "",
           "title": {
            "standoff": 15
           },
           "zerolinecolor": "white",
           "zerolinewidth": 2
          }
         }
        },
        "title": {
         "text": "KMeans Clustering Visualized with PCA (3D)"
        }
       }
      }
     },
     "metadata": {},
     "output_type": "display_data"
    }
   ],
   "source": [
    "import plotly.express as px\n",
    "from sklearn.decomposition import PCA\n",
    "import pandas as pd\n",
    "\n",
    "pca3 = PCA(n_components=3, random_state=42)\n",
    "pca_result_3d = pca3.fit_transform(X_scaled)\n",
    "\n",
    "pca3_df = pd.DataFrame(pca_result_3d, columns=[\"PCA1\", \"PCA2\", \"PCA3\"])\n",
    "pca3_df[\"Cluster\"] = kmeans.labels_  \n",
    "fig = px.scatter_3d(\n",
    "    pca3_df,\n",
    "    x=\"PCA1\",\n",
    "    y=\"PCA2\",\n",
    "    z=\"PCA3\",\n",
    "    color=\"Cluster\",               \n",
    "    symbol=\"Cluster\",                 \n",
    "    opacity=0.8\n",
    ")\n",
    "\n",
    "fig.update_traces(marker=dict(size=5, line=dict(width=0.5, color=\"black\")))\n",
    "fig.update_layout(\n",
    "    title=\"KMeans Clustering Visualized with PCA (3D)\",\n",
    "    scene=dict(\n",
    "        xaxis_title=\"Principal Component 1\",\n",
    "        yaxis_title=\"Principal Component 2\",\n",
    "        zaxis_title=\"Principal Component 3\"\n",
    "    )\n",
    ")\n",
    "\n",
    "fig.show()\n"
   ]
  },
  {
   "cell_type": "code",
   "execution_count": null,
   "id": "66597527",
   "metadata": {},
   "outputs": [
    {
     "data": {
      "image/png": "[encoded data removed]",
      "text/plain": [
       "<Figure size 640x480 with 1 Axes>"
      ]
     },
     "metadata": {},
     "output_type": "display_data"
    }
   ],
   "source": [
    "wcss = []\n",
    "for k in range(2, 10):\n",
    "    kmeans = KMeans(n_clusters=k,random_state=42)\n",
    "    kmeans.fit(X_scaled)\n",
    "    wcss.append(kmeans.inertia_)\n",
    "plt.plot(range(2, 10), wcss, marker='o')\n",
    "plt.xlabel(\"Number of clusters (k)\")\n",
    "plt.ylabel(\"WCSS \")\n",
    "plt.title(\"Elbow Method for Optimal k\")\n",
    "plt.show()"
   ]
  },
  {
   "cell_type": "code",
   "execution_count": null,
   "id": "c0ecaca7",
   "metadata": {},
   "outputs": [
    {
     "data": {
      "text/html": [
       "<div>\n",
       "<style scoped>\n",
       "    .dataframe tbody tr th:only-of-type {\n",
       "        vertical-align: middle;\n",
       "    }\n",
       "\n",
       "    .dataframe tbody tr th {\n",
       "        vertical-align: top;\n",
       "    }\n",
       "\n",
       "    .dataframe thead th {\n",
       "        text-align: right;\n",
       "    }\n",
       "</style>\n",
       "<table border=\"1\" class=\"dataframe\">\n",
       "  <thead>\n",
       "    <tr style=\"text-align: right;\">\n",
       "      <th></th>\n",
       "      <th>Channel</th>\n",
       "      <th>Region</th>\n",
       "      <th>Fresh</th>\n",
       "      <th>Milk</th>\n",
       "      <th>Grocery</th>\n",
       "      <th>Frozen</th>\n",
       "      <th>Detergents_Paper</th>\n",
       "      <th>Delicassen</th>\n",
       "      <th>KMeans_Cluster</th>\n",
       "      <th>PCA1</th>\n",
       "      <th>PCA2</th>\n",
       "    </tr>\n",
       "  </thead>\n",
       "  <tbody>\n",
       "    <tr>\n",
       "      <th>0</th>\n",
       "      <td>2</td>\n",
       "      <td>3</td>\n",
       "      <td>9.446992</td>\n",
       "      <td>9.175438</td>\n",
       "      <td>8.930891</td>\n",
       "      <td>5.370638</td>\n",
       "      <td>7.891705</td>\n",
       "      <td>7.199678</td>\n",
       "      <td>1</td>\n",
       "      <td>1.380383</td>\n",
       "      <td>-0.304727</td>\n",
       "    </tr>\n",
       "    <tr>\n",
       "      <th>1</th>\n",
       "      <td>2</td>\n",
       "      <td>3</td>\n",
       "      <td>8.861917</td>\n",
       "      <td>9.191259</td>\n",
       "      <td>9.166284</td>\n",
       "      <td>7.474772</td>\n",
       "      <td>8.099858</td>\n",
       "      <td>7.482682</td>\n",
       "      <td>1</td>\n",
       "      <td>1.438870</td>\n",
       "      <td>0.537468</td>\n",
       "    </tr>\n",
       "    <tr>\n",
       "      <th>2</th>\n",
       "      <td>2</td>\n",
       "      <td>3</td>\n",
       "      <td>8.756840</td>\n",
       "      <td>9.083529</td>\n",
       "      <td>8.947026</td>\n",
       "      <td>7.785721</td>\n",
       "      <td>8.165364</td>\n",
       "      <td>8.967632</td>\n",
       "      <td>1</td>\n",
       "      <td>1.513453</td>\n",
       "      <td>1.232565</td>\n",
       "    </tr>\n",
       "    <tr>\n",
       "      <th>3</th>\n",
       "      <td>1</td>\n",
       "      <td>3</td>\n",
       "      <td>9.492960</td>\n",
       "      <td>7.087574</td>\n",
       "      <td>8.348064</td>\n",
       "      <td>8.764834</td>\n",
       "      <td>6.230481</td>\n",
       "      <td>7.489412</td>\n",
       "      <td>2</td>\n",
       "      <td>-0.825105</td>\n",
       "      <td>1.210790</td>\n",
       "    </tr>\n",
       "    <tr>\n",
       "      <th>4</th>\n",
       "      <td>2</td>\n",
       "      <td>3</td>\n",
       "      <td>10.026413</td>\n",
       "      <td>8.596189</td>\n",
       "      <td>8.881697</td>\n",
       "      <td>8.272826</td>\n",
       "      <td>7.483244</td>\n",
       "      <td>8.553718</td>\n",
       "      <td>1</td>\n",
       "      <td>0.802897</td>\n",
       "      <td>1.766046</td>\n",
       "    </tr>\n",
       "  </tbody>\n",
       "</table>\n",
       "</div>"
      ],
      "text/plain": [
       "   Channel  Region      Fresh      Milk   Grocery    Frozen  Detergents_Paper  \\\n",
       "0        2       3   9.446992  9.175438  8.930891  5.370638          7.891705   \n",
       "1        2       3   8.861917  9.191259  9.166284  7.474772          8.099858   \n",
       "2        2       3   8.756840  9.083529  8.947026  7.785721          8.165364   \n",
       "3        1       3   9.492960  7.087574  8.348064  8.764834          6.230481   \n",
       "4        2       3  10.026413  8.596189  8.881697  8.272826          7.483244   \n",
       "\n",
       "   Delicassen  KMeans_Cluster      PCA1      PCA2  \n",
       "0    7.199678               1  1.380383 -0.304727  \n",
       "1    7.482682               1  1.438870  0.537468  \n",
       "2    8.967632               1  1.513453  1.232565  \n",
       "3    7.489412               2 -0.825105  1.210790  \n",
       "4    8.553718               1  0.802897  1.766046  "
      ]
     },
     "execution_count": 103,
     "metadata": {},
     "output_type": "execute_result"
    }
   ],
   "source": [
    "df.head()"
   ]
  },
  {
   "cell_type": "code",
   "execution_count": null,
   "id": "1364a7c1",
   "metadata": {},
   "outputs": [
    {
     "name": "stdout",
     "output_type": "stream",
     "text": [
      "eps=0.5, min_samples=3 --> Silhouette: -0.399, DBI: 1.696, CHI: 2.6\n",
      "eps=0.5, min_samples=5 --> Silhouette: -0.193, DBI: 1.856, CHI: 1.6\n",
      "eps=0.7, min_samples=3 --> Silhouette: -0.303, DBI: 2.020, CHI: 5.7\n",
      "eps=0.7, min_samples=5 --> Silhouette: -0.225, DBI: 2.185, CHI: 10.2\n",
      "eps=0.7, min_samples=7 --> Silhouette: -0.287, DBI: 1.880, CHI: 6.3\n",
      "eps=0.7, min_samples=10 --> Silhouette: -0.142, DBI: 1.987, CHI: 6.0\n",
      "eps=0.9, min_samples=3 --> Silhouette: -0.227, DBI: 2.998, CHI: 6.4\n",
      "eps=0.9, min_samples=5 --> Silhouette: 0.039, DBI: 3.392, CHI: 13.1\n",
      "eps=0.9, min_samples=7 --> Silhouette: -0.062, DBI: 3.798, CHI: 9.8\n",
      "eps=0.9, min_samples=10 --> Silhouette: 0.033, DBI: 2.420, CHI: 38.5\n",
      "eps=1.2, min_samples=3 --> Silhouette: -0.064, DBI: 2.845, CHI: 7.6\n",
      "eps=1.2, min_samples=5 --> Silhouette: 0.262, DBI: 4.538, CHI: 16.0\n",
      "eps=1.2, min_samples=7 --> Silhouette: 0.263, DBI: 4.575, CHI: 15.9\n",
      "eps=1.2, min_samples=10 --> Silhouette: 0.247, DBI: 4.198, CHI: 20.1\n",
      "eps=1.5, min_samples=3 --> Silhouette: 0.299, DBI: 3.161, CHI: 11.2\n",
      "eps=1.5, min_samples=5 --> Silhouette: 0.348, DBI: 3.701, CHI: 16.9\n",
      "eps=1.5, min_samples=7 --> Silhouette: 0.344, DBI: 3.692, CHI: 17.7\n",
      "eps=1.5, min_samples=10 --> Silhouette: 0.334, DBI: 3.727, CHI: 18.3\n"
     ]
    }
   ],
   "source": [
    "from sklearn.metrics import silhouette_score, davies_bouldin_score, calinski_harabasz_score\n",
    "\n",
    "for eps in [0.5, 0.7, 0.9, 1.2, 1.5]:\n",
    "    for min_samples in [3, 5, 7, 10]:\n",
    "        db = DBSCAN(eps=eps, min_samples=min_samples)\n",
    "        labels = db.fit_predict(X_scaled)\n",
    "        \n",
    "        if len(set(labels)) <= 1:\n",
    "            continue\n",
    "        \n",
    "        sil = silhouette_score(X_scaled, labels)\n",
    "        dbi = davies_bouldin_score(X_scaled, labels)\n",
    "        chi = calinski_harabasz_score(X_scaled, labels)\n",
    "        \n",
    "        print(f\"eps={eps}, min_samples={min_samples} --> \"\n",
    "              f\"Silhouette: {sil:.3f}, DBI: {dbi:.3f}, CHI: {chi:.1f}\")\n"
   ]
  },
  {
   "cell_type": "code",
   "execution_count": 62,
   "id": "31468f1c",
   "metadata": {},
   "outputs": [
    {
     "name": "stdout",
     "output_type": "stream",
     "text": [
      "Cluster counts:\n",
      "DBSCAN_Cluster\n",
      "-1     41\n",
      " 0    399\n",
      "Name: count, dtype: int64\n"
     ]
    },
    {
     "name": "stderr",
     "output_type": "stream",
     "text": [
      "C:\\Users\\Manoj\\AppData\\Local\\Temp\\ipykernel_20776\\280123863.py:12: FutureWarning:\n",
      "\n",
      "\n",
      "\n",
      "Passing `palette` without assigning `hue` is deprecated and will be removed in v0.14.0. Assign the `x` variable to `hue` and set `legend=False` for the same effect.\n",
      "\n",
      "\n"
     ]
    },
    {
     "data": {
      "image/png": "[encoded data removed]",
      "text/plain": [
       "<Figure size 800x500 with 1 Axes>"
      ]
     },
     "metadata": {},
     "output_type": "display_data"
    }
   ],
   "source": [
    "from sklearn.cluster import DBSCAN\n",
    "from sklearn.metrics import silhouette_score, davies_bouldin_score, calinski_harabasz_score\n",
    "\n",
    "dbscan = DBSCAN(eps=1.5, min_samples=5)\n",
    "db_labels = dbscan.fit_predict(X_scaled)\n",
    "\n",
    "df[\"DBSCAN_Cluster\"] = db_labels\n",
    "\n",
    "print(\"Cluster counts:\")\n",
    "print(df[\"DBSCAN_Cluster\"].value_counts().sort_index())\n",
    "plt.figure(figsize=(8, 5))\n",
    "sns.countplot(x=\"DBSCAN_Cluster\", data=df, palette=\"Set2\")\n",
    "plt.title(\"DBSCAN Cluster Counts\")\n",
    "plt.xlabel(\"Cluster Label\")\n",
    "plt.ylabel(\"Number of Points\")\n",
    "plt.show()"
   ]
  },
  {
   "cell_type": "code",
   "execution_count": 63,
   "id": "2f10fbdd",
   "metadata": {},
   "outputs": [
    {
     "name": "stdout",
     "output_type": "stream",
     "text": [
      "Silhouette Score: 0.33324590864202575\n",
      "Davies-Bouldin Index: 3.0152860803474772\n",
      "Calinski-Harabasz Score: 21.072853101676795\n"
     ]
    },
    {
     "data": {
      "image/png": "[encoded data removed]",
      "text/plain": [
       "<Figure size 800x600 with 1 Axes>"
      ]
     },
     "metadata": {},
     "output_type": "display_data"
    }
   ],
   "source": [
    "import numpy as np\n",
    "pca = PCA(n_components=2)\n",
    "X_pca = pca.fit_transform(X_scaled)\n",
    "res = []\n",
    "if len(set(db_labels)):\n",
    "    silhouette = silhouette_score(X_pca, db_labels)\n",
    "    db_index = davies_bouldin_score(X_pca, db_labels)\n",
    "    db_ch = calinski_harabasz_score(X_pca, db_labels)\n",
    "else:\n",
    "    silhouette, db_index, db_ch = np.nan, np.nan, np.nan\n",
    "\n",
    "res.append([silhouette, db_index, db_ch, np.nan])\n",
    "\n",
    "print(\"Silhouette Score:\", silhouette)\n",
    "print(\"Davies-Bouldin Index:\", db_index)\n",
    "print(\"Calinski-Harabasz Score:\", db_ch)\n",
    "\n",
    "plt.figure(figsize=(8, 6))\n",
    "plt.scatter(X_pca[:, 0], X_pca[:, 1], c=db_labels, cmap=\"Accent\", s=50)\n",
    "plt.xlabel(\"PCA 1\")\n",
    "plt.ylabel(\"PCA 2\")\n",
    "plt.title(\"DBSCAN Clustering (PCA Reduced)\")\n",
    "plt.show()"
   ]
  },
  {
   "cell_type": "code",
   "execution_count": null,
   "id": "d1cd8e5c",
   "metadata": {},
   "outputs": [
    {
     "data": {
      "application/vnd.plotly.v1+json": {
       "config": {
        "plotlyServerURL": "https://plot.ly"
       },
       "data": [
        {
         "hovertemplate": "PCA1=%{x}<br>PCA2=%{y}<br>PCA3=%{z}<br>DBSCAN=%{marker.color}<extra></extra>",
         "legendgroup": "",
         "marker": {
          "color": [
           0,
           0,
           0,
           0,
           0,
           0,
           0,
           0,
           0,
           0,
           0,
           0,
           0,
           0,
           0,
           0,
           0,
           0,
           0,
           0,
           0,
           0,
           0,
           -1,
           0,
           0,
           0,
           0,
           0,
           0,
           0,
           0,
           0,
           0,
           0,
           0,
           0,
           0,
           0,
           0,
           0,
           0,
           0,
           0,
           0,
           0,
           0,
           0,
           0,
           0,
           0,
           0,
           0,
           0,
           0,
           0,
           0,
           0,
           0,
           0,
           0,
           0,
           0,
           0,
           0,
           -1,
           -1,
           0,
           0,
           0,
           0,
           -1,
           0,
           0,
           0,
           -1,
           0,
           0,
           0,
           0,
           0,
           0,
           0,
           0,
           0,
           0,
           0,
           0,
           -1,
           0,
           0,
           0,
           0,
           0,
           0,
           -1,
           -1,
           -1,
           -1,
           0,
           0,
           0,
           0,
           0,
           0,
           0,
           0,
           0,
           0,
           -1,
           0,
           0,
           0,
           0,
           0,
           0,
           0,
           0,
           0,
           0,
           0,
           0,
           0,
           0,
           0,
           0,
           0,
           0,
           -1,
           0,
           0,
           0,
           0,
           0,
           0,
           0,
           0,
           0,
           0,
           0,
           0,
           -1,
           -1,
           0,
           0,
           -1,
           0,
           0,
           0,
           0,
           0,
           0,
           0,
           0,
           -1,
           0,
           0,
           0,
           0,
           0,
           0,
           -1,
           0,
           0,
           0,
           0,
           0,
           0,
           0,
           0,
           0,
           0,
           0,
           0,
           -1,
           0,
           0,
           -1,
           0,
           0,
           0,
           -1,
           0,
           -1,
           -1,
           0,
           0,
           -1,
           0,
           0,
           -1,
           0,
           0,
           0,
           0,
           0,
           0,
           0,
           0,
           0,
           0,
           0,
           0,
           -1,
           -1,
           0,
           0,
           0,
           0,
           0,
           0,
           0,
           0,
           0,
           0,
           0,
           0,
           0,
           -1,
           0,
           0,
           0,
           0,
           0,
           0,
           0,
           0,
           0,
           -1,
           0,
           0,
           0,
           0,
           -1,
           0,
           0,
           0,
           0,
           0,
           0,
           0,
           0,
           0,
           0,
           0,
           0,
           0,
           0,
           0,
           0,
           0,
           0,
           0,
           0,
           0,
           0,
           0,
           0,
           0,
           0,
           0,
           0,
           0,
           0,
           0,
           0,
           0,
           0,
           0,
           0,
           0,
           0,
           0,
           0,
           0,
           -1,
           0,
           0,
           0,
           0,
           0,
           0,
           0,
           0,
           0,
           -1,
           0,
           0,
           0,
           -1,
           0,
           0,
           0,
           0,
           0,
           0,
           0,
           0,
           0,
           0,
           0,
           0,
           0,
           0,
           0,
           0,
           0,
           0,
           0,
           0,
           0,
           0,
           0,
           0,
           0,
           0,
           0,
           0,
           0,
           0,
           0,
           0,
           0,
           0,
           0,
           -1,
           0,
           0,
           0,
           0,
           0,
           0,
           0,
           -1,
           0,
           0,
           0,
           0,
           -1,
           0,
           0,
           0,
           0,
           0,
           0,
           0,
           0,
           0,
           0,
           0,
           0,
           0,
           0,
           0,
           0,
           0,
           -1,
           -1,
           0,
           0,
           0,
           0,
           0,
           0,
           0,
           0,
           0,
           0,
           0,
           0,
           0,
           0,
           0,
           0,
           0,
           0,
           0,
           0,
           0,
           0,
           0,
           0,
           0,
           0,
           0,
           0,
           0,
           0,
           0,
           0,
           0,
           0,
           0,
           0,
           0,
           0,
           0,
           0,
           0,
           0,
           0,
           0,
           -1,
           0,
           0,
           0,
           0,
           0,
           0,
           0,
           0,
           0,
           -1,
           0,
           0,
           0,
           0,
           0,
           0,
           0,
           0,
           0,
           0,
           0,
           0,
           0,
           0,
           0,
           0,
           -1,
           0,
           0,
           0,
           0,
           0,
           0,
           0,
           0,
           0,
           -1
          ],
          "coloraxis": "coloraxis",
          "line": {
           "color": "black",
           "width": 0.5
          },
          "opacity": 0.8,
          "size": 5,
          "symbol": "circle"
         },
         "mode": "markers",
         "name": "",
         "scene": "scene",
         "showlegend": false,
         "type": "scatter3d",
         "x": [
          1.3803827863658054,
          1.4388696446330935,
          1.5134525556437755,
          -0.8251053991359067,
          0.8028971082483904,
          0.886165464850308,
          0.6032560203667762,
          1.1526487141521788,
          0.5300120664774196,
          2.196865574517631,
          1.4396377890823084,
          -0.8444768181721617,
          1.8828558831190856,
          1.3502890347643695,
          1.8157121344384488,
          -0.6306354677133044,
          1.940972379386705,
          0.1385886593528616,
          1.1933295569349192,
          0.5464702992559822,
          0.5698299046383303,
          -1.5219215961763006,
          -0.016572934822419276,
          2.775683064778795,
          1.782658772736212,
          0.5664784057970227,
          -1.402122257081539,
          -1.6468867167937247,
          2.8943128764976023,
          -0.5712825184865795,
          0.934357733978433,
          -0.038305035775520434,
          -0.7197049307340078,
          -0.0904557357233655,
          -0.7111058902038465,
          1.3193478630695057,
          0.365324372151145,
          1.6167162506278365,
          2.4262454868568937,
          -2.354814118250957,
          0.2569922421132899,
          0.5198432322952892,
          1.383094176219319,
          2.0465959558922613,
          0.9847356616137113,
          2.7167480781049584,
          2.3122550505828823,
          3.768865803960332,
          1.4654025954921037,
          2.809985444718891,
          -1.0601692009648773,
          0.5621876238123635,
          0.5975473250532489,
          1.6803209282639626,
          -1.415944254817652,
          0.457384584241939,
          3.022665358068743,
          2.1361693101755077,
          -1.2978096544119126,
          1.298361390827825,
          0.775949516938475,
          3.578793802146366,
          0.8840666716247358,
          1.926968204236474,
          -0.5990409337379203,
          3.9652466111156266,
          0.42195643798486776,
          1.407858757711909,
          0.41552924788080947,
          -1.0771533140828211,
          -1.2893867055799342,
          1.0521840135280236,
          -0.3575332897150207,
          0.20753520558629482,
          1.0784129252504928,
          -6.087092664211509,
          0.04142716319545304,
          2.4918618541472926,
          -1.6263635840219068,
          0.2340593608483119,
          -0.9891553826731743,
          1.956638222061582,
          1.6157633977016288,
          -1.170337778562622,
          0.15170867899654236,
          4.28125279564807,
          3.522441856040816,
          0.8605756836169169,
          -2.216765310583805,
          -0.038225538581974826,
          -2.4856857273141295,
          -0.7079216240455135,
          3.233311081737017,
          -1.4504310129591733,
          1.6911485219569662,
          0.2769161446015857,
          1.0701190764288246,
          -3.3888659858173225,
          -3.571329123262721,
          -1.4543508415727562,
          1.7196274712950816,
          2.124330833067575,
          1.2029975800627,
          0.28469000454942744,
          -0.3236126266265452,
          -1.1998229116739245,
          1.9080326135048062,
          1.9432821334732033,
          1.370923528072669,
          1.0432049685159175,
          -1.3808547570062795,
          2.048405838600744,
          -0.6868512146193553,
          -0.8643728712488852,
          -1.7090096912686352,
          -1.4780008292563034,
          -0.9052244230310543,
          -0.1379233406197972,
          -1.0792928434090443,
          -1.1266331871244064,
          -1.2653107581836587,
          -1.199611772096193,
          -4.13043078279303,
          0.8053769475989165,
          -0.9094487019129198,
          -0.22214178240876725,
          -1.479796281191072,
          1.3069178918289706,
          0.08945194567651034,
          -1.4893435296503212,
          -1.5408376574484266,
          -2.9953613284647145,
          -0.6590177836442156,
          -1.6825421831375857,
          -1.6218784598350893,
          -1.3848666203515962,
          1.0212625627586909,
          0.2999280953504849,
          0.1733308204848674,
          0.02124930416212343,
          0.45702979371649743,
          -0.01783368322200126,
          -1.613663818020875,
          -1.7492754188153654,
          -0.600585244519924,
          2.9268208030806635,
          -1.5033758070462053,
          -0.2926902584567992,
          -2.555614502775802,
          -1.573822456997728,
          -1.2956744147977315,
          -0.4772002747971011,
          -1.3470217871074412,
          0.04560394768880475,
          -5.644452037992016,
          2.59290709154819,
          1.908814126076829,
          -1.0749764861875066,
          1.4276091217788693,
          1.908180001910221,
          1.4031308329024683,
          -3.9435560361753135,
          -0.9585234957218648,
          2.424328685988736,
          0.9395492149482663,
          2.083038407448702,
          1.5678156193887942,
          0.1707869379320712,
          -2.532339269640629,
          -2.041057712631881,
          1.7984244335912916,
          3.1873509416751644,
          1.0721337623520306,
          2.1478563215188315,
          -0.7539443433231839,
          1.9647173554198183,
          0.19717312214773258,
          -0.6988178603850668,
          -0.36566234220903837,
          -0.41357642980315074,
          1.0710157652913246,
          2.274984102435909,
          1.5683165622840856,
          1.833396681506113,
          -1.1220612285046483,
          -1.5243075210593138,
          -1.83913783382418,
          0.2935891434071047,
          1.348830826322551,
          2.042556230277206,
          -1.4340297039981347,
          -3.185821719481081,
          -1.2853783185490322,
          1.6434848049256952,
          -1.0103189758252555,
          -0.16418198906178053,
          0.18854948905177424,
          1.4987405737642336,
          -0.31545464724658434,
          -0.9108749811957939,
          2.2264162398547858,
          2.5399214719106635,
          0.7438719678215521,
          -1.4818779856520399,
          -2.041503866983373,
          2.372536730391871,
          -2.026550117678184,
          0.5669482708799292,
          0.6821892536444317,
          2.247526954357721,
          -1.2603770884378946,
          3.2102789003245804,
          -1.3039463163301932,
          1.149787752896865,
          1.530725733572428,
          2.0610797974235333,
          3.0008571214824857,
          -1.5236582448054339,
          2.3338162297158545,
          -2.798874170770301,
          -2.261339504183437,
          1.4400869328794164,
          -1.487529441592583,
          -0.11323815853941747,
          -2.1877616876745223,
          -0.08972124574805844,
          0.9861032030065366,
          -1.20241435297073,
          -1.5116076534103713,
          -0.652267079725244,
          0.34901160509024964,
          0.6577580831016855,
          -0.7870895655870547,
          -0.8046251741068924,
          -0.5163382503682186,
          0.11237611406329501,
          -1.4495238120254967,
          -2.226125154796843,
          -3.0498451161208506,
          -0.3720907524801932,
          -0.17670513692032655,
          -0.9806919073996743,
          -1.4206661783804078,
          0.53327036996345,
          1.4395158848011997,
          2.072433772999951,
          -0.9792177795535568,
          -3.3832268867833792,
          -0.273922592911082,
          -0.6845243830960562,
          -1.1662275415953096,
          3.1154236121081373,
          -0.8136732569308833,
          0.9266072585981122,
          1.1069523133687151,
          -2.461293344517293,
          -0.03834454172039011,
          -0.4088387659377719,
          -0.38957299781818583,
          0.23355993451007817,
          -0.17482426176423824,
          -2.577146247060142,
          -1.2897077891728426,
          -0.13369954494780342,
          2.310120055702228,
          1.5619108187176902,
          2.2120053519922123,
          -0.8118137284953686,
          1.7896475729227113,
          -2.6725131912598514,
          -2.438290147822952,
          -0.718209997795367,
          0.2671243214894968,
          -1.212705413937577,
          -0.5925492008549388,
          -2.5496593676528025,
          0.10314211399165779,
          -2.38071050318255,
          -0.9723303733003491,
          1.2092158158396644,
          -0.803137730214887,
          0.9829076847034035,
          -0.11403704012003688,
          -0.946269771216821,
          0.4182542673307343,
          -1.9075540728825207,
          -1.0974790884675703,
          -0.9669709917830023,
          -1.9434043397871896,
          -4.193785478776864,
          -0.20099477087213163,
          -0.7216028960453836,
          -0.10044691447709801,
          1.796088187333481,
          -0.003974239868691961,
          0.001889893492528974,
          -0.8092745518148439,
          0.5634082466400154,
          1.1605336846141916,
          -1.2622072278808596,
          0.9743553855270893,
          1.9285547996869472,
          1.3880351460548062,
          1.143894515408185,
          2.6359286178419894,
          1.566599102357367,
          2.2396372625237926,
          -0.7461411830975034,
          -1.124066116211265,
          2.2635723886102794,
          -1.278556126246382,
          -0.671609126543463,
          1.5456040966349796,
          -1.8073404131647528,
          -0.03459264332275868,
          2.1488584022899686,
          -1.6189770298781512,
          0.3579369374383145,
          -0.8548851434046096,
          2.6630148077061553,
          -0.48298537898399957,
          -0.7059532661235024,
          -1.1604791465513715,
          -0.01789612397933612,
          -0.9866759516365439,
          1.2834565469175763,
          -1.3017866640468214,
          -1.689365838313709,
          -0.9781376569919782,
          -0.7376624498122966,
          -0.8594400656127308,
          2.450204780987886,
          -1.075966517611613,
          3.0941177024762534,
          -1.2803132354238105,
          1.3513744330049073,
          -1.5972067259846168,
          -1.1777231044959757,
          -2.0301047591738874,
          -0.5822879038999409,
          1.5809786874872223,
          1.600859308652995,
          1.3953793312127543,
          1.7711792335730767,
          -1.5955004517231712,
          0.7439963317781036,
          1.6828348818535863,
          1.2823480487247747,
          -0.48230378377499894,
          2.224036837264368,
          -1.463433344074812,
          2.5416485519925374,
          -1.8662323812317907,
          2.3708003493474084,
          0.18228262431517128,
          -1.5646521247564413,
          -4.869545237035306,
          1.2686786442427544,
          0.44025719444341965,
          -0.2548192627554629,
          -0.9354381371382594,
          -2.3465276106443023,
          -1.0515808658081085,
          -0.413835424980938,
          -1.4193155029760827,
          1.3447366255879398,
          -1.283199278254177,
          -2.2780284207411063,
          -1.7395633043756669,
          -3.254012545838706,
          -0.008373997036047595,
          -1.0766453157867997,
          -0.3422784787594495,
          0.9617557638509688,
          -1.0904027604903548,
          -1.6336232795378687,
          1.5637082270514508,
          -1.0530169614210665,
          -1.0114557404476134,
          0.6480566578711324,
          -1.5511514930235646,
          -1.1448755600734482,
          0.9537353413145799,
          -1.0139639558473699,
          1.3628150545240711,
          -1.7407081361612753,
          -0.3881091070600623,
          -1.3571852325010483,
          -2.035522241433037,
          -1.5731068855635673,
          -1.5650523619198318,
          -0.9223499520372811,
          -0.4256808608301167,
          -0.29725124396410585,
          -1.5820515272641331,
          -1.4285973652155546,
          1.5605918137907917,
          -2.021973388696803,
          -2.8338322911639042,
          -2.077835382363047,
          -1.9334112799344771,
          -1.416892893461152,
          -1.2337398032529774,
          0.4770957319668478,
          -0.1939347090655477,
          -1.5922254683750343,
          0.036591276755472,
          1.9517474214983306,
          0.4301633075083019,
          0.6970085094621643,
          0.13896534034977656,
          -0.26097534000397743,
          1.0985924932938609,
          0.31143782453351027,
          -0.6498796563298805,
          1.1670416816608622,
          1.807772677278614,
          1.3489771015972816,
          2.250124305819859,
          0.04053619108792406,
          1.9744528802165089,
          1.0631087717477055,
          -0.4518529940547748,
          0.2097807182051676,
          0.629508009196495,
          -1.294188913491777,
          1.6655962244008675,
          0.3575051576913997,
          0.16042602155153793,
          -0.6815526866342557,
          0.6599715113742466,
          0.28892753131483556,
          -0.4107703054109571,
          -0.7218512982963086,
          0.6947438552818328,
          0.592201412632727,
          -2.1532243008896548,
          2.85257676760404,
          -1.0117667920942914,
          -0.9156408925598087
         ],
         "y": [
          -0.30472683260098177,
          0.5374682256112262,
          1.232564533406577,
          1.2107896181052389,
          1.7660459621182898,
          0.12989417893346564,
          -0.46154812403864837,
          0.6076761527297401,
          -0.6301380623446862,
          0.3260495102954918,
          0.5542031070288191,
          -0.022084171542164105,
          0.5323381981943762,
          0.7078407147561541,
          0.27500093755032246,
          -0.8084564410591981,
          -1.6543031290006283,
          0.5408411511000458,
          1.2220421581153977,
          -0.5447134562474506,
          0.669507282847008,
          0.0762767889125958,
          2.089245550523611,
          2.6216729357493835,
          1.7063200694547374,
          -1.641226428955328,
          0.4592588459135763,
          -0.4352235082572102,
          0.6138545610827255,
          0.6347323202138918,
          0.8382841822186748,
          -0.06230119704217321,
          -0.6751413502896,
          1.491382531816994,
          -1.464051852606565,
          -1.4003073405670312,
          1.460874928978774,
          0.4905651873833141,
          -2.007789557634491,
          2.146169658657222,
          2.2425467183658894,
          1.0613722477620868,
          -1.8729974107944776,
          -2.146594711795687,
          -1.285206352414628,
          0.8927684012873013,
          0.1096137695412889,
          2.609645580204104,
          0.07399152305820375,
          0.26378153007387095,
          0.7397865367302298,
          -1.4832469661488028,
          0.4554417056742606,
          -1.792186631589759,
          1.0010847697296137,
          -0.09788164229993178,
          0.4475802545299234,
          -1.4913257720268618,
          -0.3454111932730788,
          -0.832377818716726,
          -1.7170177130317754,
          1.5979068183956777,
          0.6609199722937245,
          0.7347862776710252,
          0.3338785241352632,
          -3.101851461555268,
          -5.091318627636234,
          0.4227011593579735,
          0.920264891229696,
          -0.8743296530196795,
          1.554630318831957,
          2.0277099167911845,
          0.12426213529256216,
          1.2312094026578941,
          0.42188002020971815,
          1.1938681840604402,
          -0.03959421632744772,
          0.17296903426324742,
          -0.3343294064711038,
          -0.4930040787709181,
          -0.8387164708149782,
          -2.7338300970852836,
          0.39293795184642466,
          0.6153423267394442,
          -0.6767441910442363,
          0.9022215129446679,
          0.6337944341131249,
          2.65933336875754,
          -0.3495368561927167,
          1.560700324936988,
          0.1963731363489086,
          1.2398160330760377,
          1.406147979778762,
          2.299420715115442,
          -1.3442410377109084,
          -3.5169127978163637,
          -3.9233165857642036,
          -2.619196391113195,
          -2.266485667296624,
          0.43755409556948605,
          1.1711727710167608,
          -0.15969558083907529,
          0.19117350823370347,
          2.487964572537559,
          0.05677936194499636,
          0.3040126974316034,
          -1.3562756713439865,
          0.6614344968061328,
          -1.1345931297117884,
          -2.936762835932479,
          0.7439113828251548,
          0.3294633463863392,
          1.7835896371607214,
          0.9514695538721,
          0.8213379739955825,
          0.2810913193876203,
          -0.2618922873515902,
          0.3135032316300358,
          1.0949041871713012,
          0.4803411132567863,
          0.7253925038095239,
          -0.36436151385047566,
          0.2586015610089474,
          -0.17444140027933408,
          1.4797746460099848,
          2.1881223341105387,
          1.0105517417569796,
          0.8194724905322391,
          -4.653280666588694,
          1.0607654855480149,
          0.7864857364052691,
          -1.582068571663758,
          -0.5037556300413291,
          -0.7625538281346503,
          -0.3661225778161332,
          -0.5176021645243697,
          0.7465101513741321,
          -1.7938372867629608,
          -0.059874168596921934,
          -0.19575233993331836,
          1.1328053428630107,
          0.4700925206409548,
          -0.8805198735402128,
          0.5848480487251521,
          -1.2373928284184894,
          -0.4223556893645737,
          -0.2578042887339416,
          -0.07799678249829547,
          0.04277328744322014,
          0.6050912845396612,
          0.25377936142683577,
          -0.7169701048501058,
          0.10568370307863498,
          -0.0611443913796063,
          -4.418146790651512,
          -0.8678516495645809,
          -0.36566984316083806,
          0.4382167243623891,
          -0.1991785560387621,
          -2.1405919990606392,
          -0.43410382242529344,
          0.5785637942680536,
          0.5182194544501745,
          0.003055503774928385,
          -0.27307583655054346,
          1.3960676056891388,
          0.35088892388837634,
          -0.9828421472034868,
          -0.3826561686867576,
          0.0653408192035743,
          -1.7441231803779202,
          -0.7601388520982608,
          -1.473236676080187,
          -1.2567611113436454,
          -0.7987853946744726,
          -1.5770702133292342,
          1.1011876392608155,
          1.1115751608601787,
          0.004890345877692464,
          0.7491179921232989,
          0.24507952980945868,
          3.4460517005117213,
          -2.0726840967843305,
          4.23854681566951,
          -4.392765176629825,
          0.01316247472255158,
          -0.156096334764764,
          -1.8324249161693154,
          0.1275956804238071,
          -1.1453630933401089,
          0.2795143778794768,
          -1.0012380506153176,
          -0.8098065194549804,
          -1.7700998551654483,
          -0.1818485967316732,
          1.5954724455355935,
          2.4390663821419243,
          -0.22662287519183552,
          0.5627070117148689,
          -0.6507449597373357,
          0.19603113472585895,
          0.6367340435242532,
          2.209807996570904,
          -3.20269294023834,
          -0.23916198460923807,
          -0.8899767925630527,
          -0.7718912470346805,
          -0.8452848513274186,
          -0.4909081710496185,
          -0.24121501628823078,
          0.9203241743612288,
          1.4563839313991198,
          0.2439975571338822,
          -0.10595929851247399,
          -0.6114651096837683,
          0.1590313324929595,
          -1.322433000596076,
          0.814886285061436,
          -1.5132973506085439,
          -0.8643432011967432,
          0.365029873950678,
          -1.7948553521895778,
          0.2765145489883747,
          0.48403960252341194,
          -0.3927899014641357,
          -0.08414045216458568,
          0.8640731444358146,
          -0.024275833573473016,
          -1.517679482123217,
          0.9155222104950697,
          1.5024274699574935,
          -0.4800460112029784,
          0.17989712832833551,
          -2.760084783733114,
          1.35512593895974,
          -0.9133586647175952,
          -0.3157311040272567,
          1.3137169886208386,
          -0.7197651716142303,
          1.8002429464512428,
          1.9783675766108657,
          0.81808280345047,
          0.5522686468185013,
          0.22676332780736916,
          0.31735910835170256,
          -0.650614572407067,
          0.11730818826751654,
          0.25169369081700754,
          -0.1301781108155566,
          0.3828381118665183,
          -0.24355041410195657,
          1.5607699831312614,
          1.084329808172772,
          0.42846570310283644,
          1.5019380068704593,
          0.7672154660743938,
          -0.5362810786644115,
          0.655655045035687,
          2.198533781152204,
          1.2466765368543549,
          -0.6310123609985118,
          0.37420866283110243,
          0.19031762038451863,
          -0.3860091458078163,
          -1.9290744318792037,
          1.7293514046550045,
          -0.23603807138129015,
          1.4534957189344404,
          0.0796234080799947,
          -0.21693237945154312,
          -0.659280287294862,
          -0.16187289434738397,
          -1.1584922263401047,
          1.6534543086407496,
          -1.0124590127862128,
          -1.420696934238029,
          1.6136683339454,
          0.4162248131153117,
          1.1298647470551673,
          0.6833620609318223,
          -0.24642199081446925,
          0.5803974133075523,
          1.7227051943168148,
          1.751371362306826,
          2.274253504448601,
          -1.112724669847309,
          -0.7017773485685457,
          1.2481917302406302,
          -0.5052584014396835,
          -0.8591759891195819,
          -0.6170691234637099,
          0.2333975426891607,
          0.23751819393545445,
          -0.368032885419075,
          0.5589637551875154,
          -1.0750406469312157,
          0.7299417694742711,
          -0.1316240606628479,
          -0.10035303806233067,
          -2.422670355714743,
          0.53273052599232,
          -0.5288187777781225,
          -1.126028840987037,
          -2.0090026950933852,
          -1.4286412489657203,
          -2.023244376031317,
          0.4594891709320297,
          0.3587108795612136,
          -0.7056096216106981,
          -0.6309981199778043,
          1.125606485434513,
          0.16849974288039352,
          -1.315888401008035,
          0.19895467274170942,
          0.3205843265274161,
          -0.21771407704897197,
          0.4403756574742217,
          -0.5671150677137567,
          -0.7080389995811042,
          0.48338228551633244,
          -0.9037431327644326,
          0.5609415685176286,
          0.08318717779164866,
          -0.2322607662383603,
          1.0120092464236614,
          3.3603843941043627,
          0.2310235417688696,
          -1.796462671321789,
          1.452889434352959,
          0.3908015347101974,
          0.689446922859301,
          0.3659547015242537,
          1.2539077622771893,
          -0.9292734476126286,
          1.8404757580883015,
          0.9819864778304422,
          -0.07626620200475606,
          0.9091352867680943,
          -2.1364645263206836,
          0.7710421809833464,
          -1.5793693045393584,
          -0.2973747359789458,
          -1.7362938285638267,
          -1.8131932836906262,
          -0.4639534904092866,
          -1.7478662791248187,
          0.09243465822401922,
          1.0168788620846347,
          -0.404703101540693,
          -0.04542855699156448,
          -0.10986875260248058,
          -0.0005285919784346627,
          -1.8080231551572912,
          -2.3386769107800394,
          1.5295170199153845,
          -3.0919031867974387,
          0.5258148628781006,
          -4.158059594984573,
          0.7211263281211778,
          -1.3804179171707645,
          0.551216210973143,
          -0.6074329309429826,
          -0.9429702538630703,
          -1.602941202261814,
          -0.8345569132077725,
          0.4933818173563669,
          -0.15518034770072256,
          -0.6824597543603728,
          0.48722511336812596,
          -0.6890880749319404,
          1.1752513688500126,
          1.2009046069409075,
          0.36599671146544277,
          0.9680937100577424,
          -0.046141024680944547,
          -1.5012615551328334,
          0.625368790395365,
          0.8436070533847346,
          -0.7765648485311277,
          -1.8436683069731408,
          0.4775333931086859,
          1.2340318678985096,
          1.5366844133989332,
          -0.4309920389305067,
          1.669519249791468,
          0.5419332746990221,
          -0.39985980059857484,
          0.6898386251237494,
          -0.13283403126494328,
          0.40093536276743774,
          0.37466997287478987,
          -0.1526438629392101,
          -1.3369279558411562,
          1.4843284382033912,
          -0.06887740674448642,
          -0.028250627654464316,
          0.6588055243854767,
          0.9567103461187144,
          0.33313773263917995,
          -0.275243647111968,
          0.2924720043586292,
          2.0368269605627827,
          -0.41314750220871843,
          -0.8111169349318219,
          0.9214842720243607,
          -0.22577599261445905,
          1.5515454001308828,
          0.2920713406320513,
          -0.207296620326069,
          1.0879902664312662,
          0.2665298847117447,
          0.3408920704970336,
          -3.997587372761173,
          1.5623493939188924,
          0.12019196805063984,
          0.5209248828924602,
          -0.24505202611913834,
          -0.6058933339072304,
          -1.991356611593188,
          0.01503657440371768,
          -1.797510996351454,
          0.5594170325960824,
          0.38087728552904865,
          0.1771675481441143,
          -0.387596581069044,
          1.7212355105611803,
          1.0536090829348204,
          2.099433710842771,
          -0.4053557018183163,
          -0.9576921495297469,
          -0.2420518619716954,
          1.4494600587131423,
          -0.7232885518952011,
          -0.1532855075058928,
          0.04553748277394912,
          2.271129675336348,
          1.6972804904618826,
          0.19460002308991814,
          0.45278454533107587,
          -2.9182610774233173
         ],
         "z": [
          -0.24106170473520783,
          0.0842323034016607,
          0.98530593561988,
          0.2521406095207478,
          0.3126979999724044,
          0.01894977547740722,
          -0.6731222244446705,
          0.30812795178637176,
          -0.10707160633844245,
          0.0699428417746406,
          0.3156151727351208,
          -0.4509863573279218,
          -0.3181053447132682,
          -1.117364639136737,
          -0.394557210392725,
          -0.4717352888566635,
          0.6313955960397242,
          1.1246129715477964,
          0.029717863012766403,
          -0.5265191093000744,
          -0.0187047454375689,
          0.14379849824907986,
          0.15012586964131042,
          0.5238532408396035,
          0.1512901415911289,
          -2.10153158756747,
          0.11024962049523668,
          -0.1774730260025387,
          0.6480255615873217,
          -0.7404683303274946,
          0.05283304360216994,
          0.5350981994370032,
          -0.7718420352894526,
          -0.5011676367044722,
          0.4439513470551683,
          0.3137159457076559,
          0.2727800025385107,
          -0.8783075604393251,
          -0.6419523487114487,
          0.2303275899157305,
          0.45704053814772777,
          0.06777911834482524,
          -2.2295970347869147,
          -0.887920568544351,
          -1.911427722160122,
          0.5522395297984022,
          0.12077420919561063,
          -0.5767149650690616,
          -0.2497908791015479,
          -0.3525784091511236,
          0.7689877216868899,
          -0.36712212084367973,
          -0.694472809696467,
          0.007692890917938946,
          -0.025632481451149387,
          0.16786603288869184,
          -0.24062558213558136,
          -0.029778769733514295,
          -0.34470379935990986,
          0.2003844318466355,
          -1.0341332209261784,
          -1.1203777080523278,
          -0.2663383166333839,
          -0.39633800352437726,
          0.38160926123302763,
          1.4696181438683518,
          0.7969899487038905,
          -0.8538129683973325,
          1.1299705332742012,
          -0.8701078194002145,
          0.16020437257337067,
          0.8470816572972367,
          -0.7148500609337568,
          -0.7349391319237678,
          0.1170089924519404,
          1.1360210521758416,
          0.9978114795358355,
          -0.7602954135636038,
          -0.8200517142776712,
          0.9992056568257193,
          -0.06482680834228764,
          0.11276794324255394,
          0.06573406932239782,
          -0.32427520370176477,
          -1.506856455987751,
          -0.655144227151085,
          -1.2928626909481977,
          0.5987679824720583,
          -1.382366557699014,
          0.2166254072784683,
          -0.17806347780112675,
          -0.020377638587088416,
          0.13517265978210785,
          0.7739781173560357,
          -0.9799951381531793,
          3.294293898315882,
          1.5119871710280441,
          0.5331154050012954,
          0.8676355734987116,
          -0.4135599396427509,
          0.04082060888077548,
          0.6485346464969318,
          0.33773125993377484,
          -0.4928010570429517,
          -0.5532588526425511,
          0.23711196624130554,
          0.7626350207264185,
          -0.3115696401199688,
          0.6586212475912572,
          -2.632887250575207,
          0.4890579099396494,
          -0.40239179141171216,
          0.3352339546989843,
          0.1961120012828153,
          0.20572382421088764,
          -0.12077637059816497,
          -0.7853416832388901,
          0.25515701287337084,
          -0.22696857067345885,
          -0.004027257587311964,
          0.05130864401184442,
          -0.1718407304953245,
          0.7066096609268201,
          -1.4682175247914129,
          -0.21080460923623762,
          -1.0843277609658415,
          -0.521643984201756,
          -0.09813245392696852,
          -1.346876071329033,
          -0.05585912812679145,
          0.3394955237588609,
          0.7092119637179155,
          -0.7564141670888216,
          -0.1645179195332621,
          0.19229783213306392,
          -0.18817854445661505,
          0.25389571158819824,
          -1.5074019368056142,
          0.6191388487924137,
          0.2148011484482282,
          0.1320063679136531,
          -0.09931709803272294,
          -3.4420340998691112,
          -0.44545611483813413,
          -1.0482857909624046,
          -0.13769217104434966,
          0.09553356819752924,
          -0.35477417975117614,
          0.17912785174260032,
          0.05911328907010321,
          0.11097868268081604,
          1.40223166927677,
          -1.0941927307224217,
          0.808875148521768,
          -0.21201255700020133,
          0.5389683462857869,
          0.612555086541649,
          -0.6800433225865269,
          0.46113366509946424,
          0.27737421941630497,
          0.8169056198584672,
          1.378733833241434,
          -0.32816613047956616,
          -0.9130802951195027,
          -0.9006205741542261,
          -0.3074965677332047,
          0.6448592191715612,
          0.2475115878568584,
          0.2840605462743517,
          0.5179076579476444,
          0.45037829741261176,
          2.088839118624384,
          0.5678262275408215,
          0.525917173933025,
          1.9286669407640642,
          0.5575767581519593,
          -1.7400598452169254,
          0.747542017245377,
          -0.45804048813847664,
          1.0294377897777782,
          0.2626996481989038,
          -0.4741206339004291,
          -0.3356115155083645,
          1.2803879452212668,
          -0.8220642114375598,
          -0.33550618801605603,
          0.5780814198739745,
          -2.8948325537357324,
          -0.9032687814057613,
          1.0118581790455548,
          -1.57163567645656,
          -0.9236526961045166,
          0.02546955147515672,
          1.0565721612260242,
          0.40130193358940197,
          0.0545452078366711,
          -0.05089180977719172,
          0.42988249008177387,
          -0.3275748889216874,
          -0.4225530505549411,
          -0.320443618489788,
          -0.07193379559634917,
          0.547425951380836,
          -0.857304690209503,
          1.456787193114062,
          0.14445905555711744,
          -0.15209857805123994,
          -0.9415167201842172,
          0.42504259435226605,
          -0.48951277539028426,
          0.4039667771757429,
          -0.3483985381749695,
          0.7195895836866368,
          0.24972191653522377,
          0.05504006351570707,
          0.524842646854781,
          -0.3355677878093879,
          0.12060573313744967,
          3.302231349427986,
          -0.2746564704717425,
          0.14767914944042831,
          -0.8971500625597782,
          -0.07447887894907947,
          0.6503719190544641,
          0.38290654222882514,
          -0.2656712454997406,
          -0.39326024254324443,
          0.4052098743337981,
          -0.05541228657997083,
          0.06878841421926161,
          0.20862995587062566,
          0.03557012875635173,
          -0.37841869946049117,
          -1.6583494311513598,
          0.39827049435562156,
          -0.039046485949399475,
          -0.6184884435616549,
          0.3818028075151442,
          -0.12129884072108578,
          -0.2660305141744826,
          0.13234060487747618,
          -0.24511875537330807,
          -0.4430529836437145,
          0.29272333455419924,
          0.211833355441491,
          0.6040141147153382,
          -0.0810953279975086,
          0.32688291109160844,
          -0.46567232723588586,
          -0.6107712537204829,
          0.5331445319781981,
          0.30637810670183635,
          0.5822895164276465,
          -0.45001496201262287,
          0.3732135496310388,
          -0.35161563806176704,
          -0.5995396032707198,
          -0.04675502706433508,
          -0.07917898405885433,
          -1.0178652592792066,
          -0.2685056353543683,
          -0.10922200126432936,
          -0.40413900312345086,
          -0.02877512608589434,
          0.6425189877790732,
          0.5931972860854838,
          1.233064308614631,
          0.4738841104410243,
          -0.8108830004731535,
          -0.698813781682728,
          -0.9360902328370413,
          1.1723424548591261,
          1.4099514766857948,
          -0.012633740369772337,
          1.2436727876442628,
          1.2334177977794842,
          -0.03496146351946212,
          -0.8097651066427993,
          0.2622502674875829,
          -0.30152996733459014,
          0.744999759207878,
          0.054834829633936204,
          -0.6184755247506716,
          -0.11926854807166005,
          -0.5700125187075356,
          -2.6757989421610664,
          -0.932862466984134,
          -0.08585429146527533,
          -0.6844153445064332,
          -1.9990192458583291,
          0.8362828227675532,
          0.13586132963948783,
          0.5138237083166656,
          -0.25728312940904347,
          -0.04391197880440129,
          -0.7833033765414386,
          -0.3081640025877917,
          -0.549580492125831,
          -0.17863492603322226,
          0.8713089756223512,
          -0.09876322552931312,
          -1.3250768700446542,
          -0.18874401973333402,
          -1.471985030027635,
          1.671818655614248,
          0.3379764681264735,
          -0.1707003160437512,
          -0.1621977043977335,
          0.14423818269392782,
          0.353090796631214,
          0.36699023400674474,
          -1.7033758385981894,
          -1.0166294264877367,
          -0.4127664920291088,
          0.004293002907720436,
          1.0880663180808214,
          0.5218507190864738,
          1.1206582245183345,
          -1.7408042297870774,
          -0.3919025396623369,
          0.8096869210959916,
          0.19896237857906665,
          -1.0298543908349473,
          -0.6025450157476857,
          -0.16139599143275643,
          0.03588957402636322,
          0.45404403132709603,
          1.33248876325393,
          0.14363744506643308,
          0.15361195621079382,
          0.16043575892860978,
          -0.6571929792904162,
          0.4368680798260227,
          -0.6444636244546347,
          0.6323390005474978,
          -0.4081071154666706,
          0.06781209487938535,
          0.06013827747825492,
          3.5352317866687066,
          0.956552662556952,
          1.200642090544431,
          0.6560693524330711,
          1.4468108125290127,
          -1.7298045977024417,
          0.24493365919301724,
          -0.022695431756706526,
          0.10688032557905117,
          -0.8726179899600006,
          0.2538944310482023,
          -0.8947993401364708,
          0.7422681434301923,
          0.9111324024249783,
          0.7126665573652069,
          1.4576373621730012,
          0.20242128504593843,
          0.9112730415498413,
          0.32959479735528013,
          0.7965519684143766,
          1.8822845968627668,
          1.1221712266008406,
          -0.5791203048105986,
          0.26650669948007355,
          0.7399896989953665,
          -0.313944243740226,
          0.37792308474980146,
          0.5934404254934722,
          -0.18944088850253926,
          0.2807354961781929,
          -0.3544168270405548,
          0.19884824927237715,
          -0.17822781563518159,
          -0.3694838512760868,
          1.4409092988202374,
          0.19643460691397369,
          0.18509128988344092,
          -1.0157063674411175,
          0.22071527995484277,
          -0.20619061394435434,
          0.9135680201561344,
          -0.7202964252601681,
          -1.0516450025548973,
          -0.4551167792270518,
          -0.228026270580657,
          0.27019621631489366,
          0.6615123942724233,
          0.2811004613593436,
          0.9839199704841072,
          -0.09725840795503023,
          -0.13965280682544315,
          0.08319032777384648,
          0.7238065121729089,
          1.208016303168124,
          1.2357397601924978,
          -0.5169725759502987,
          -0.2666402885310499,
          -0.5354397993727651,
          0.38165490068576974,
          0.16663103406654253,
          -0.3196627031470459,
          -0.2215604471653776,
          0.7247822235652006,
          0.18536005701996372,
          -0.5942657987061766,
          -1.1813730234547946,
          -0.5269789493269866,
          -0.1704953990811767,
          -0.5893358060707253,
          -0.7978197981995782,
          -0.7707671003036729,
          0.7576458850598977,
          0.41156208101606767,
          1.624936471805327,
          0.1666022064271951,
          0.6165124692710738,
          -0.5221329177149902,
          0.1072069072300169,
          -0.1300424047623852,
          -0.018036256620707354,
          0.5392521862717792,
          0.2410111466710117,
          0.1362305675192927,
          -0.23826762889288372,
          -0.31051710629473694,
          -0.629713042783382,
          -1.3316202581839658,
          0.5302889669799685,
          -0.2553344911281095,
          -0.5664486928994658,
          -0.24857918724580985,
          0.912611017148976,
          0.8471271269998826,
          0.0876734988318887,
          -0.8699923926570243,
          1.083619990170221,
          -0.5752686703239615,
          -0.19166066805364612,
          0.3284972822108165,
          -0.5243573089343034,
          0.6604578751679291,
          -0.9249211044872756
         ]
        }
       ],
       "layout": {
        "coloraxis": {
         "colorbar": {
          "title": {
           "text": "DBSCAN"
          }
         },
         "colorscale": [
          [
           0,
           "#440154"
          ],
          [
           0.1111111111111111,
           "#482878"
          ],
          [
           0.2222222222222222,
           "#3e4989"
          ],
          [
           0.3333333333333333,
           "#31688e"
          ],
          [
           0.4444444444444444,
           "#26828e"
          ],
          [
           0.5555555555555556,
           "#1f9e89"
          ],
          [
           0.6666666666666666,
           "#35b779"
          ],
          [
           0.7777777777777778,
           "#6ece58"
          ],
          [
           0.8888888888888888,
           "#b5de2b"
          ],
          [
           1,
           "#fde725"
          ]
         ]
        },
        "legend": {
         "tracegroupgap": 0
        },
        "margin": {
         "t": 60
        },
        "scene": {
         "domain": {
          "x": [
           0,
           1
          ],
          "y": [
           0,
           1
          ]
         },
         "xaxis": {
          "title": {
           "text": "PCA1"
          }
         },
         "yaxis": {
          "title": {
           "text": "PCA2"
          }
         },
         "zaxis": {
          "title": {
           "text": "PCA3"
          }
         }
        },
        "template": {
         "data": {
          "bar": [
           {
            "error_x": {
             "color": "#2a3f5f"
            },
            "error_y": {
             "color": "#2a3f5f"
            },
            "marker": {
             "line": {
              "color": "#E5ECF6",
              "width": 0.5
             },
             "pattern": {
              "fillmode": "overlay",
              "size": 10,
              "solidity": 0.2
             }
            },
            "type": "bar"
           }
          ],
          "barpolar": [
           {
            "marker": {
             "line": {
              "color": "#E5ECF6",
              "width": 0.5
             },
             "pattern": {
              "fillmode": "overlay",
              "size": 10,
              "solidity": 0.2
             }
            },
            "type": "barpolar"
           }
          ],
          "carpet": [
           {
            "aaxis": {
             "endlinecolor": "#2a3f5f",
             "gridcolor": "white",
             "linecolor": "white",
             "minorgridcolor": "white",
             "startlinecolor": "#2a3f5f"
            },
            "baxis": {
             "endlinecolor": "#2a3f5f",
             "gridcolor": "white",
             "linecolor": "white",
             "minorgridcolor": "white",
             "startlinecolor": "#2a3f5f"
            },
            "type": "carpet"
           }
          ],
          "choropleth": [
           {
            "colorbar": {
             "outlinewidth": 0,
             "ticks": ""
            },
            "type": "choropleth"
           }
          ],
          "contour": [
           {
            "colorbar": {
             "outlinewidth": 0,
             "ticks": ""
            },
            "colorscale": [
             [
              0,
              "#0d0887"
             ],
             [
              0.1111111111111111,
              "#46039f"
             ],
             [
              0.2222222222222222,
              "#7201a8"
             ],
             [
              0.3333333333333333,
              "#9c179e"
             ],
             [
              0.4444444444444444,
              "#bd3786"
             ],
             [
              0.5555555555555556,
              "#d8576b"
             ],
             [
              0.6666666666666666,
              "#ed7953"
             ],
             [
              0.7777777777777778,
              "#fb9f3a"
             ],
             [
              0.8888888888888888,
              "#fdca26"
             ],
             [
              1,
              "#f0f921"
             ]
            ],
            "type": "contour"
           }
          ],
          "contourcarpet": [
           {
            "colorbar": {
             "outlinewidth": 0,
             "ticks": ""
            },
            "type": "contourcarpet"
           }
          ],
          "heatmap": [
           {
            "colorbar": {
             "outlinewidth": 0,
             "ticks": ""
            },
            "colorscale": [
             [
              0,
              "#0d0887"
             ],
             [
              0.1111111111111111,
              "#46039f"
             ],
             [
              0.2222222222222222,
              "#7201a8"
             ],
             [
              0.3333333333333333,
              "#9c179e"
             ],
             [
              0.4444444444444444,
              "#bd3786"
             ],
             [
              0.5555555555555556,
              "#d8576b"
             ],
             [
              0.6666666666666666,
              "#ed7953"
             ],
             [
              0.7777777777777778,
              "#fb9f3a"
             ],
             [
              0.8888888888888888,
              "#fdca26"
             ],
             [
              1,
              "#f0f921"
             ]
            ],
            "type": "heatmap"
           }
          ],
          "heatmapgl": [
           {
            "colorbar": {
             "outlinewidth": 0,
             "ticks": ""
            },
            "colorscale": [
             [
              0,
              "#0d0887"
             ],
             [
              0.1111111111111111,
              "#46039f"
             ],
             [
              0.2222222222222222,
              "#7201a8"
             ],
             [
              0.3333333333333333,
              "#9c179e"
             ],
             [
              0.4444444444444444,
              "#bd3786"
             ],
             [
              0.5555555555555556,
              "#d8576b"
             ],
             [
              0.6666666666666666,
              "#ed7953"
             ],
             [
              0.7777777777777778,
              "#fb9f3a"
             ],
             [
              0.8888888888888888,
              "#fdca26"
             ],
             [
              1,
              "#f0f921"
             ]
            ],
            "type": "heatmapgl"
           }
          ],
          "histogram": [
           {
            "marker": {
             "pattern": {
              "fillmode": "overlay",
              "size": 10,
              "solidity": 0.2
             }
            },
            "type": "histogram"
           }
          ],
          "histogram2d": [
           {
            "colorbar": {
             "outlinewidth": 0,
             "ticks": ""
            },
            "colorscale": [
             [
              0,
              "#0d0887"
             ],
             [
              0.1111111111111111,
              "#46039f"
             ],
             [
              0.2222222222222222,
              "#7201a8"
             ],
             [
              0.3333333333333333,
              "#9c179e"
             ],
             [
              0.4444444444444444,
              "#bd3786"
             ],
             [
              0.5555555555555556,
              "#d8576b"
             ],
             [
              0.6666666666666666,
              "#ed7953"
             ],
             [
              0.7777777777777778,
              "#fb9f3a"
             ],
             [
              0.8888888888888888,
              "#fdca26"
             ],
             [
              1,
              "#f0f921"
             ]
            ],
            "type": "histogram2d"
           }
          ],
          "histogram2dcontour": [
           {
            "colorbar": {
             "outlinewidth": 0,
             "ticks": ""
            },
            "colorscale": [
             [
              0,
              "#0d0887"
             ],
             [
              0.1111111111111111,
              "#46039f"
             ],
             [
              0.2222222222222222,
              "#7201a8"
             ],
             [
              0.3333333333333333,
              "#9c179e"
             ],
             [
              0.4444444444444444,
              "#bd3786"
             ],
             [
              0.5555555555555556,
              "#d8576b"
             ],
             [
              0.6666666666666666,
              "#ed7953"
             ],
             [
              0.7777777777777778,
              "#fb9f3a"
             ],
             [
              0.8888888888888888,
              "#fdca26"
             ],
             [
              1,
              "#f0f921"
             ]
            ],
            "type": "histogram2dcontour"
           }
          ],
          "mesh3d": [
           {
            "colorbar": {
             "outlinewidth": 0,
             "ticks": ""
            },
            "type": "mesh3d"
           }
          ],
          "parcoords": [
           {
            "line": {
             "colorbar": {
              "outlinewidth": 0,
              "ticks": ""
             }
            },
            "type": "parcoords"
           }
          ],
          "pie": [
           {
            "automargin": true,
            "type": "pie"
           }
          ],
          "scatter": [
           {
            "fillpattern": {
             "fillmode": "overlay",
             "size": 10,
             "solidity": 0.2
            },
            "type": "scatter"
           }
          ],
          "scatter3d": [
           {
            "line": {
             "colorbar": {
              "outlinewidth": 0,
              "ticks": ""
             }
            },
            "marker": {
             "colorbar": {
              "outlinewidth": 0,
              "ticks": ""
             }
            },
            "type": "scatter3d"
           }
          ],
          "scattercarpet": [
           {
            "marker": {
             "colorbar": {
              "outlinewidth": 0,
              "ticks": ""
             }
            },
            "type": "scattercarpet"
           }
          ],
          "scattergeo": [
           {
            "marker": {
             "colorbar": {
              "outlinewidth": 0,
              "ticks": ""
             }
            },
            "type": "scattergeo"
           }
          ],
          "scattergl": [
           {
            "marker": {
             "colorbar": {
              "outlinewidth": 0,
              "ticks": ""
             }
            },
            "type": "scattergl"
           }
          ],
          "scattermapbox": [
           {
            "marker": {
             "colorbar": {
              "outlinewidth": 0,
              "ticks": ""
             }
            },
            "type": "scattermapbox"
           }
          ],
          "scatterpolar": [
           {
            "marker": {
             "colorbar": {
              "outlinewidth": 0,
              "ticks": ""
             }
            },
            "type": "scatterpolar"
           }
          ],
          "scatterpolargl": [
           {
            "marker": {
             "colorbar": {
              "outlinewidth": 0,
              "ticks": ""
             }
            },
            "type": "scatterpolargl"
           }
          ],
          "scatterternary": [
           {
            "marker": {
             "colorbar": {
              "outlinewidth": 0,
              "ticks": ""
             }
            },
            "type": "scatterternary"
           }
          ],
          "surface": [
           {
            "colorbar": {
             "outlinewidth": 0,
             "ticks": ""
            },
            "colorscale": [
             [
              0,
              "#0d0887"
             ],
             [
              0.1111111111111111,
              "#46039f"
             ],
             [
              0.2222222222222222,
              "#7201a8"
             ],
             [
              0.3333333333333333,
              "#9c179e"
             ],
             [
              0.4444444444444444,
              "#bd3786"
             ],
             [
              0.5555555555555556,
              "#d8576b"
             ],
             [
              0.6666666666666666,
              "#ed7953"
             ],
             [
              0.7777777777777778,
              "#fb9f3a"
             ],
             [
              0.8888888888888888,
              "#fdca26"
             ],
             [
              1,
              "#f0f921"
             ]
            ],
            "type": "surface"
           }
          ],
          "table": [
           {
            "cells": {
             "fill": {
              "color": "#EBF0F8"
             },
             "line": {
              "color": "white"
             }
            },
            "header": {
             "fill": {
              "color": "#C8D4E3"
             },
             "line": {
              "color": "white"
             }
            },
            "type": "table"
           }
          ]
         },
         "layout": {
          "annotationdefaults": {
           "arrowcolor": "#2a3f5f",
           "arrowhead": 0,
           "arrowwidth": 1
          },
          "autotypenumbers": "strict",
          "coloraxis": {
           "colorbar": {
            "outlinewidth": 0,
            "ticks": ""
           }
          },
          "colorscale": {
           "diverging": [
            [
             0,
             "#8e0152"
            ],
            [
             0.1,
             "#c51b7d"
            ],
            [
             0.2,
             "#de77ae"
            ],
            [
             0.3,
             "#f1b6da"
            ],
            [
             0.4,
             "#fde0ef"
            ],
            [
             0.5,
             "#f7f7f7"
            ],
            [
             0.6,
             "#e6f5d0"
            ],
            [
             0.7,
             "#b8e186"
            ],
            [
             0.8,
             "#7fbc41"
            ],
            [
             0.9,
             "#4d9221"
            ],
            [
             1,
             "#276419"
            ]
           ],
           "sequential": [
            [
             0,
             "#0d0887"
            ],
            [
             0.1111111111111111,
             "#46039f"
            ],
            [
             0.2222222222222222,
             "#7201a8"
            ],
            [
             0.3333333333333333,
             "#9c179e"
            ],
            [
             0.4444444444444444,
             "#bd3786"
            ],
            [
             0.5555555555555556,
             "#d8576b"
            ],
            [
             0.6666666666666666,
             "#ed7953"
            ],
            [
             0.7777777777777778,
             "#fb9f3a"
            ],
            [
             0.8888888888888888,
             "#fdca26"
            ],
            [
             1,
             "#f0f921"
            ]
           ],
           "sequentialminus": [
            [
             0,
             "#0d0887"
            ],
            [
             0.1111111111111111,
             "#46039f"
            ],
            [
             0.2222222222222222,
             "#7201a8"
            ],
            [
             0.3333333333333333,
             "#9c179e"
            ],
            [
             0.4444444444444444,
             "#bd3786"
            ],
            [
             0.5555555555555556,
             "#d8576b"
            ],
            [
             0.6666666666666666,
             "#ed7953"
            ],
            [
             0.7777777777777778,
             "#fb9f3a"
            ],
            [
             0.8888888888888888,
             "#fdca26"
            ],
            [
             1,
             "#f0f921"
            ]
           ]
          },
          "colorway": [
           "#636efa",
           "#EF553B",
           "#00cc96",
           "#ab63fa",
           "#FFA15A",
           "#19d3f3",
           "#FF6692",
           "#B6E880",
           "#FF97FF",
           "#FECB52"
          ],
          "font": {
           "color": "#2a3f5f"
          },
          "geo": {
           "bgcolor": "white",
           "lakecolor": "white",
           "landcolor": "#E5ECF6",
           "showlakes": true,
           "showland": true,
           "subunitcolor": "white"
          },
          "hoverlabel": {
           "align": "left"
          },
          "hovermode": "closest",
          "mapbox": {
           "style": "light"
          },
          "paper_bgcolor": "white",
          "plot_bgcolor": "#E5ECF6",
          "polar": {
           "angularaxis": {
            "gridcolor": "white",
            "linecolor": "white",
            "ticks": ""
           },
           "bgcolor": "#E5ECF6",
           "radialaxis": {
            "gridcolor": "white",
            "linecolor": "white",
            "ticks": ""
           }
          },
          "scene": {
           "xaxis": {
            "backgroundcolor": "#E5ECF6",
            "gridcolor": "white",
            "gridwidth": 2,
            "linecolor": "white",
            "showbackground": true,
            "ticks": "",
            "zerolinecolor": "white"
           },
           "yaxis": {
            "backgroundcolor": "#E5ECF6",
            "gridcolor": "white",
            "gridwidth": 2,
            "linecolor": "white",
            "showbackground": true,
            "ticks": "",
            "zerolinecolor": "white"
           },
           "zaxis": {
            "backgroundcolor": "#E5ECF6",
            "gridcolor": "white",
            "gridwidth": 2,
            "linecolor": "white",
            "showbackground": true,
            "ticks": "",
            "zerolinecolor": "white"
           }
          },
          "shapedefaults": {
           "line": {
            "color": "#2a3f5f"
           }
          },
          "ternary": {
           "aaxis": {
            "gridcolor": "white",
            "linecolor": "white",
            "ticks": ""
           },
           "baxis": {
            "gridcolor": "white",
            "linecolor": "white",
            "ticks": ""
           },
           "bgcolor": "#E5ECF6",
           "caxis": {
            "gridcolor": "white",
            "linecolor": "white",
            "ticks": ""
           }
          },
          "title": {
           "x": 0.05
          },
          "xaxis": {
           "automargin": true,
           "gridcolor": "white",
           "linecolor": "white",
           "ticks": "",
           "title": {
            "standoff": 15
           },
           "zerolinecolor": "white",
           "zerolinewidth": 2
          },
          "yaxis": {
           "automargin": true,
           "gridcolor": "white",
           "linecolor": "white",
           "ticks": "",
           "title": {
            "standoff": 15
           },
           "zerolinecolor": "white",
           "zerolinewidth": 2
          }
         }
        },
        "title": {
         "text": "DBSCAN Clusters in 3D PCA Space"
        }
       }
      }
     },
     "metadata": {},
     "output_type": "display_data"
    }
   ],
   "source": [
    "import plotly.express as px\n",
    "from sklearn.decomposition import PCA\n",
    "\n",
    "pca3 = PCA(n_components=3, random_state=42)\n",
    "pca_result_3d = pca3.fit_transform(X_scaled)\n",
    "\n",
    "pca3_df = pd.DataFrame(pca_result_3d, columns=[\"PCA1\", \"PCA2\", \"PCA3\"])\n",
    "pca3_df[\"DBSCAN\"] = db_labels \n",
    "fig = px.scatter_3d(\n",
    "    pca3_df,\n",
    "    x=\"PCA1\",\n",
    "    y=\"PCA2\",\n",
    "    z=\"PCA3\",\n",
    "    color=\"DBSCAN\",             \n",
    "    color_continuous_scale=\"Viridis\", \n",
    "    opacity=0.8,\n",
    "    size_max=10\n",
    ")\n",
    "\n",
    "fig.update_traces(marker=dict(size=5, line=dict(width=0.5, color=\"black\")))\n",
    "fig.update_layout(\n",
    "    title=\"DBSCAN Clusters in 3D PCA Space\",\n",
    "    scene=dict(\n",
    "        xaxis_title=\"PCA1\",\n",
    "        yaxis_title=\"PCA2\",\n",
    "        zaxis_title=\"PCA3\"\n",
    "    )\n",
    ")\n",
    "\n",
    "fig.show()\n"
   ]
  },
  {
   "cell_type": "code",
   "execution_count": 15,
   "id": "7775fb31",
   "metadata": {},
   "outputs": [
    {
     "data": {
      "image/png": "[encoded data removed]",
      "text/plain": [
       "<Figure size 1000x500 with 1 Axes>"
      ]
     },
     "metadata": {},
     "output_type": "display_data"
    }
   ],
   "source": [
    "from sklearn.cluster import AgglomerativeClustering\n",
    "from scipy.cluster.hierarchy import dendrogram, linkage\n",
    "from sklearn.metrics import silhouette_score, davies_bouldin_score, calinski_harabasz_score\n",
    "hier = AgglomerativeClustering(n_clusters=3, linkage='ward')\n",
    "hier_labels = hier.fit_predict(X_scaled)\n",
    "linkage_matrix = linkage(X_scaled, method=\"ward\")\n",
    "\n",
    "df[\"Hier_Cluster\"] = hier_labels\n",
    "\n",
    "plt.figure(figsize=(10, 5))\n",
    "dendrogram(linkage_matrix, truncate_mode=\"level\", p=5)\n",
    "plt.title(\"Hierarchical Clustering Dendrogram\")\n",
    "plt.xlabel(\"Data Points\")\n",
    "plt.ylabel(\"Distance\")\n",
    "plt.show()\n"
   ]
  },
  {
   "cell_type": "code",
   "execution_count": 16,
   "id": "540aac2d",
   "metadata": {},
   "outputs": [
    {
     "name": "stdout",
     "output_type": "stream",
     "text": [
      "Silhouette Score: 0.2546567404941345\n",
      "Davies-Bouldin Score: 1.5389948670687705\n"
     ]
    }
   ],
   "source": [
    "hier_silhouette = silhouette_score(X_scaled, hier_labels)\n",
    "hier_davies = davies_bouldin_score(X_scaled, hier_labels)\n",
    "hier_calinski = calinski_harabasz_score(X_scaled, hier_labels)\n",
    "\n",
    "print(\"Silhouette Score:\", hier_silhouette)\n",
    "print(\"Davies-Bouldin Score:\", hier_davies)"
   ]
  },
  {
   "cell_type": "code",
   "execution_count": 17,
   "id": "86798b05",
   "metadata": {},
   "outputs": [
    {
     "data": {
      "image/png": "[encoded data removed]",
      "text/plain": [
       "<Figure size 640x480 with 1 Axes>"
      ]
     },
     "metadata": {},
     "output_type": "display_data"
    }
   ],
   "source": [
    "hc = AgglomerativeClustering(n_clusters=3, linkage=\"ward\")\n",
    "labels_hc = hc.fit_predict(X_scaled)\n",
    "\n",
    "sil_hc = silhouette_score(X_scaled, labels_hc)\n",
    "sns.scatterplot(x=X_scaled[:,0], y=X_scaled[:,1], hue=labels_hc, palette=\"Set1\")\n",
    "plt.title(\"Hierarchical Clustering\")\n",
    "plt.show()"
   ]
  },
  {
   "cell_type": "code",
   "execution_count": 68,
   "id": "ffd379c3",
   "metadata": {},
   "outputs": [
    {
     "data": {
      "application/vnd.plotly.v1+json": {
       "config": {
        "plotlyServerURL": "https://plot.ly"
       },
       "data": [
        {
         "hovertemplate": "HierCluster=%{marker.color}<br>PCA1=%{x}<br>PCA2=%{y}<br>PCA3=%{z}<extra></extra>",
         "legendgroup": "2",
         "marker": {
          "color": [
           2,
           2,
           2,
           2,
           2,
           2,
           2,
           2,
           2,
           2,
           2,
           2,
           2,
           2,
           2,
           2,
           2,
           2,
           2,
           2,
           2,
           2,
           2,
           2,
           2,
           2,
           2,
           2,
           2,
           2,
           2,
           2,
           2,
           2,
           2,
           2,
           2,
           2,
           2,
           2,
           2,
           2,
           2,
           2,
           2,
           2,
           2,
           2,
           2,
           2,
           2,
           2,
           2,
           2,
           2,
           2,
           2,
           2,
           2,
           2,
           2,
           2,
           2,
           2,
           2,
           2,
           2,
           2,
           2,
           2,
           2,
           2,
           2,
           2,
           2,
           2,
           2,
           2,
           2,
           2,
           2,
           2,
           2,
           2,
           2,
           2,
           2,
           2,
           2,
           2,
           2,
           2,
           2,
           2,
           2,
           2,
           2,
           2,
           2,
           2,
           2,
           2,
           2,
           2,
           2,
           2,
           2,
           2,
           2,
           2,
           2,
           2,
           2,
           2,
           2,
           2,
           2,
           2,
           2,
           2,
           2,
           2,
           2,
           2,
           2
          ],
          "coloraxis": "coloraxis",
          "line": {
           "color": "black",
           "width": 0.5
          },
          "opacity": 0.8,
          "size": 5,
          "symbol": "circle"
         },
         "mode": "markers",
         "name": "2",
         "scene": "scene",
         "showlegend": true,
         "type": "scatter3d",
         "x": [
          1.3803827863658054,
          1.4388696446330935,
          1.5134525556437755,
          0.886165464850308,
          1.1526487141521788,
          2.196865574517631,
          1.4396377890823084,
          1.8828558831190856,
          1.3502890347643695,
          1.8157121344384488,
          1.940972379386705,
          1.1933295569349192,
          0.5698299046383303,
          1.782658772736212,
          2.8943128764976023,
          0.934357733978433,
          1.3193478630695057,
          0.365324372151145,
          1.6167162506278365,
          2.4262454868568937,
          0.5198432322952892,
          2.7167480781049584,
          2.3122550505828823,
          3.768865803960332,
          1.4654025954921037,
          2.809985444718891,
          3.022665358068743,
          2.1361693101755077,
          1.298361390827825,
          3.578793802146366,
          0.8840666716247358,
          1.926968204236474,
          3.9652466111156266,
          1.407858757711909,
          1.0784129252504928,
          2.4918618541472926,
          1.6157633977016288,
          4.28125279564807,
          3.522441856040816,
          3.233311081737017,
          1.7196274712950816,
          2.124330833067575,
          1.2029975800627,
          1.9080326135048062,
          1.9432821334732033,
          1.370923528072669,
          2.048405838600744,
          1.3069178918289706,
          1.0212625627586909,
          0.45702979371649743,
          2.9268208030806635,
          2.59290709154819,
          1.908814126076829,
          1.4276091217788693,
          1.4031308329024683,
          2.424328685988736,
          2.083038407448702,
          1.5678156193887942,
          3.1873509416751644,
          1.0721337623520306,
          2.1478563215188315,
          1.9647173554198183,
          1.0710157652913246,
          2.042556230277206,
          1.6434848049256952,
          1.4987405737642336,
          2.2264162398547858,
          2.5399214719106635,
          2.372536730391871,
          0.6821892536444317,
          2.247526954357721,
          3.2102789003245804,
          1.149787752896865,
          1.530725733572428,
          2.0610797974235333,
          3.0008571214824857,
          2.3338162297158545,
          0.9861032030065366,
          0.53327036996345,
          1.4395158848011997,
          2.072433772999951,
          3.1154236121081373,
          2.310120055702228,
          2.2120053519922123,
          1.7896475729227113,
          1.2092158158396644,
          0.9829076847034035,
          1.796088187333481,
          1.1605336846141916,
          0.9743553855270893,
          1.9285547996869472,
          1.3880351460548062,
          2.6359286178419894,
          2.2396372625237926,
          2.2635723886102794,
          2.1488584022899686,
          2.6630148077061553,
          2.450204780987886,
          3.0941177024762534,
          1.3513744330049073,
          1.5809786874872223,
          1.600859308652995,
          1.3953793312127543,
          0.7439963317781036,
          1.6828348818535863,
          1.2823480487247747,
          2.224036837264368,
          2.5416485519925374,
          2.3708003493474084,
          1.3447366255879398,
          -0.008373997036047595,
          0.9617557638509688,
          1.5637082270514508,
          0.9537353413145799,
          1.5605918137907917,
          1.9517474214983306,
          0.6970085094621643,
          1.1670416816608622,
          1.807772677278614,
          1.3489771015972816,
          2.250124305819859,
          1.9744528802165089,
          1.0631087717477055,
          1.6655962244008675,
          2.85257676760404
         ],
         "y": [
          -0.30472683260098177,
          0.5374682256112262,
          1.232564533406577,
          0.12989417893346564,
          0.6076761527297401,
          0.3260495102954918,
          0.5542031070288191,
          0.5323381981943762,
          0.7078407147561541,
          0.27500093755032246,
          -1.6543031290006283,
          1.2220421581153977,
          0.669507282847008,
          1.7063200694547374,
          0.6138545610827255,
          0.8382841822186748,
          -1.4003073405670312,
          1.460874928978774,
          0.4905651873833141,
          -2.007789557634491,
          1.0613722477620868,
          0.8927684012873013,
          0.1096137695412889,
          2.609645580204104,
          0.07399152305820375,
          0.26378153007387095,
          0.4475802545299234,
          -1.4913257720268618,
          -0.832377818716726,
          1.5979068183956777,
          0.6609199722937245,
          0.7347862776710252,
          -3.101851461555268,
          0.4227011593579735,
          0.42188002020971815,
          0.17296903426324742,
          0.39293795184642466,
          0.9022215129446679,
          0.6337944341131249,
          1.406147979778762,
          1.1711727710167608,
          -0.15969558083907529,
          0.19117350823370347,
          -1.3562756713439865,
          0.6614344968061328,
          -1.1345931297117884,
          0.3294633463863392,
          0.8194724905322391,
          0.7465101513741321,
          1.1328053428630107,
          -0.4223556893645737,
          -0.8678516495645809,
          -0.36566984316083806,
          -0.1991785560387621,
          -0.43410382242529344,
          0.003055503774928385,
          1.3960676056891388,
          0.35088892388837634,
          -0.7601388520982608,
          -1.473236676080187,
          -1.2567611113436454,
          -1.5770702133292342,
          0.24507952980945868,
          -1.1453630933401089,
          -1.7700998551654483,
          -0.22662287519183552,
          0.19603113472585895,
          0.6367340435242532,
          -0.8899767925630527,
          -0.4909081710496185,
          -0.24121501628823078,
          1.4563839313991198,
          -0.10595929851247399,
          -0.6114651096837683,
          0.1590313324929595,
          -1.322433000596076,
          -1.5132973506085439,
          0.8640731444358146,
          0.22676332780736916,
          0.31735910835170256,
          -0.650614572407067,
          1.5607699831312614,
          -1.9290744318792037,
          -0.23603807138129015,
          0.0796234080799947,
          0.6833620609318223,
          0.5803974133075523,
          -0.368032885419075,
          -0.10035303806233067,
          0.53273052599232,
          -0.5288187777781225,
          -1.126028840987037,
          -1.4286412489657203,
          0.4594891709320297,
          -0.6309981199778043,
          -0.21771407704897197,
          0.48338228551633244,
          0.3659547015242537,
          -0.9292734476126286,
          0.9819864778304422,
          -1.5793693045393584,
          -0.2973747359789458,
          -1.7362938285638267,
          -1.7478662791248187,
          0.09243465822401922,
          1.0168788620846347,
          -0.04542855699156448,
          -0.0005285919784346627,
          -2.3386769107800394,
          0.4933818173563669,
          1.1752513688500126,
          0.9680937100577424,
          0.625368790395365,
          1.5366844133989332,
          0.6588055243854767,
          0.2920713406320513,
          1.0879902664312662,
          0.5209248828924602,
          -0.24505202611913834,
          -0.6058933339072304,
          -1.991356611593188,
          -1.797510996351454,
          0.5594170325960824,
          1.0536090829348204,
          0.19460002308991814
         ],
         "z": [
          -0.24106170473520783,
          0.0842323034016607,
          0.98530593561988,
          0.01894977547740722,
          0.30812795178637176,
          0.0699428417746406,
          0.3156151727351208,
          -0.3181053447132682,
          -1.117364639136737,
          -0.394557210392725,
          0.6313955960397242,
          0.029717863012766403,
          -0.0187047454375689,
          0.1512901415911289,
          0.6480255615873217,
          0.05283304360216994,
          0.3137159457076559,
          0.2727800025385107,
          -0.8783075604393251,
          -0.6419523487114487,
          0.06777911834482524,
          0.5522395297984022,
          0.12077420919561063,
          -0.5767149650690616,
          -0.2497908791015479,
          -0.3525784091511236,
          -0.24062558213558136,
          -0.029778769733514295,
          0.2003844318466355,
          -1.1203777080523278,
          -0.2663383166333839,
          -0.39633800352437726,
          1.4696181438683518,
          -0.8538129683973325,
          0.1170089924519404,
          -0.7602954135636038,
          0.06573406932239782,
          -0.655144227151085,
          -1.2928626909481977,
          0.13517265978210785,
          0.04082060888077548,
          0.6485346464969318,
          0.33773125993377484,
          0.7626350207264185,
          -0.3115696401199688,
          0.6586212475912572,
          -0.40239179141171216,
          -0.09813245392696852,
          0.25389571158819824,
          0.1320063679136531,
          -0.13769217104434966,
          0.5389683462857869,
          0.612555086541649,
          0.46113366509946424,
          0.8169056198584672,
          -0.9130802951195027,
          -0.3074965677332047,
          0.6448592191715612,
          2.088839118624384,
          0.5678262275408215,
          0.525917173933025,
          0.5575767581519593,
          0.2626996481989038,
          1.0118581790455548,
          1.0565721612260242,
          0.42988249008177387,
          -0.320443618489788,
          -0.07193379559634917,
          0.14445905555711744,
          0.42504259435226605,
          -0.48951277539028426,
          -0.3483985381749695,
          0.24972191653522377,
          0.05504006351570707,
          0.524842646854781,
          -0.3355677878093879,
          3.302231349427986,
          -0.39326024254324443,
          0.29272333455419924,
          0.211833355441491,
          0.6040141147153382,
          0.30637810670183635,
          0.6425189877790732,
          1.233064308614631,
          -0.8108830004731535,
          -0.30152996733459014,
          0.054834829633936204,
          -0.25728312940904347,
          -0.17863492603322226,
          -0.09876322552931312,
          -1.3250768700446542,
          -0.18874401973333402,
          1.671818655614248,
          -0.1707003160437512,
          0.353090796631214,
          1.0880663180808214,
          -0.3919025396623369,
          -0.6571929792904162,
          -0.6444636244546347,
          -0.4081071154666706,
          1.200642090544431,
          0.6560693524330711,
          1.4468108125290127,
          -0.022695431756706526,
          0.10688032557905117,
          -0.8726179899600006,
          -0.8947993401364708,
          0.9111324024249783,
          1.4576373621730012,
          0.5934404254934722,
          -0.17822781563518159,
          0.19643460691397369,
          0.22071527995484277,
          -0.228026270580657,
          0.38165490068576974,
          -0.7978197981995782,
          0.7576458850598977,
          0.1072069072300169,
          -0.1300424047623852,
          -0.018036256620707354,
          0.5392521862717792,
          0.1362305675192927,
          -0.23826762889288372,
          -0.2553344911281095,
          -0.5243573089343034
         ]
        },
        {
         "hovertemplate": "HierCluster=%{marker.color}<br>PCA1=%{x}<br>PCA2=%{y}<br>PCA3=%{z}<extra></extra>",
         "legendgroup": "0",
         "marker": {
          "color": [
           0,
           0,
           0,
           0,
           0,
           0,
           0,
           0,
           0,
           0,
           0,
           0,
           0,
           0,
           0,
           0,
           0,
           0,
           0,
           0,
           0,
           0,
           0,
           0,
           0,
           0,
           0,
           0,
           0,
           0,
           0,
           0,
           0,
           0,
           0,
           0,
           0,
           0,
           0,
           0,
           0,
           0,
           0,
           0,
           0,
           0,
           0,
           0,
           0,
           0,
           0,
           0,
           0,
           0,
           0,
           0,
           0,
           0,
           0,
           0,
           0,
           0,
           0,
           0,
           0,
           0,
           0,
           0,
           0,
           0,
           0,
           0,
           0,
           0,
           0,
           0,
           0,
           0,
           0,
           0,
           0,
           0,
           0,
           0,
           0,
           0,
           0,
           0,
           0,
           0,
           0,
           0,
           0,
           0,
           0,
           0,
           0,
           0,
           0,
           0,
           0,
           0,
           0,
           0,
           0,
           0,
           0,
           0,
           0,
           0,
           0,
           0,
           0,
           0,
           0,
           0,
           0,
           0,
           0,
           0,
           0,
           0,
           0,
           0,
           0,
           0,
           0,
           0,
           0,
           0,
           0,
           0,
           0,
           0,
           0,
           0,
           0,
           0,
           0,
           0,
           0,
           0,
           0,
           0,
           0,
           0,
           0,
           0,
           0,
           0,
           0,
           0,
           0,
           0,
           0,
           0,
           0,
           0,
           0,
           0,
           0,
           0,
           0,
           0,
           0,
           0,
           0,
           0,
           0,
           0,
           0,
           0,
           0,
           0,
           0,
           0,
           0,
           0,
           0,
           0,
           0,
           0,
           0,
           0,
           0,
           0,
           0,
           0,
           0,
           0,
           0,
           0,
           0,
           0,
           0,
           0,
           0,
           0,
           0,
           0,
           0,
           0,
           0,
           0,
           0,
           0,
           0,
           0,
           0,
           0,
           0,
           0,
           0,
           0,
           0,
           0,
           0,
           0,
           0,
           0,
           0,
           0,
           0,
           0,
           0,
           0,
           0,
           0,
           0,
           0,
           0,
           0,
           0,
           0,
           0,
           0,
           0,
           0,
           0,
           0,
           0,
           0,
           0,
           0,
           0,
           0,
           0,
           0,
           0,
           0,
           0,
           0,
           0,
           0,
           0,
           0,
           0,
           0,
           0,
           0,
           0,
           0
          ],
          "coloraxis": "coloraxis",
          "line": {
           "color": "black",
           "width": 0.5
          },
          "opacity": 0.8,
          "size": 5,
          "symbol": "diamond"
         },
         "mode": "markers",
         "name": "0",
         "scene": "scene",
         "showlegend": true,
         "type": "scatter3d",
         "x": [
          -0.8251053991359067,
          0.8028971082483904,
          0.6032560203667762,
          0.5300120664774196,
          -0.8444768181721617,
          -0.6306354677133044,
          0.1385886593528616,
          0.5464702992559822,
          -1.5219215961763006,
          -0.016572934822419276,
          2.775683064778795,
          -1.402122257081539,
          -1.6468867167937247,
          -0.5712825184865795,
          -0.038305035775520434,
          -0.7197049307340078,
          -0.0904557357233655,
          -0.7111058902038465,
          -2.354814118250957,
          0.2569922421132899,
          -1.0601692009648773,
          0.5975473250532489,
          -1.415944254817652,
          0.457384584241939,
          -1.2978096544119126,
          -0.5990409337379203,
          0.41552924788080947,
          -1.0771533140828211,
          -1.2893867055799342,
          1.0521840135280236,
          -0.3575332897150207,
          0.20753520558629482,
          -6.087092664211509,
          0.04142716319545304,
          -1.6263635840219068,
          0.2340593608483119,
          -0.9891553826731743,
          -1.170337778562622,
          0.8605756836169169,
          -2.216765310583805,
          -0.038225538581974826,
          -2.4856857273141295,
          -0.7079216240455135,
          -1.4504310129591733,
          -1.4543508415727562,
          0.28469000454942744,
          -0.3236126266265452,
          -1.1998229116739245,
          -1.3808547570062795,
          -0.6868512146193553,
          -0.8643728712488852,
          -1.7090096912686352,
          -1.4780008292563034,
          -0.9052244230310543,
          -0.1379233406197972,
          -1.0792928434090443,
          -1.1266331871244064,
          -1.2653107581836587,
          -1.199611772096193,
          -4.13043078279303,
          -0.9094487019129198,
          -0.22214178240876725,
          -1.479796281191072,
          -1.4893435296503212,
          -1.5408376574484266,
          -0.6590177836442156,
          -1.6825421831375857,
          -1.6218784598350893,
          -1.3848666203515962,
          0.1733308204848674,
          0.02124930416212343,
          -0.01783368322200126,
          -1.7492754188153654,
          -0.600585244519924,
          -1.5033758070462053,
          -0.2926902584567992,
          -2.555614502775802,
          -1.573822456997728,
          -1.2956744147977315,
          -0.4772002747971011,
          -1.3470217871074412,
          0.04560394768880475,
          -1.0749764861875066,
          -3.9435560361753135,
          -0.9585234957218648,
          0.1707869379320712,
          -2.532339269640629,
          -2.041057712631881,
          -0.7539443433231839,
          0.19717312214773258,
          -0.6988178603850668,
          -0.36566234220903837,
          -0.41357642980315074,
          2.274984102435909,
          1.833396681506113,
          -1.5243075210593138,
          -1.83913783382418,
          -1.4340297039981347,
          -3.185821719481081,
          -1.2853783185490322,
          -1.0103189758252555,
          -0.16418198906178053,
          0.18854948905177424,
          -0.31545464724658434,
          -0.9108749811957939,
          0.7438719678215521,
          -2.041503866983373,
          -2.026550117678184,
          -1.2603770884378946,
          -1.3039463163301932,
          -1.5236582448054339,
          -2.798874170770301,
          -2.261339504183437,
          -1.487529441592583,
          -0.11323815853941747,
          -2.1877616876745223,
          -0.08972124574805844,
          -1.20241435297073,
          -1.5116076534103713,
          -0.652267079725244,
          0.34901160509024964,
          -0.7870895655870547,
          -0.5163382503682186,
          -1.4495238120254967,
          -2.226125154796843,
          -3.0498451161208506,
          -0.3720907524801932,
          -0.17670513692032655,
          -0.9806919073996743,
          -1.4206661783804078,
          -0.9792177795535568,
          -3.3832268867833792,
          -0.273922592911082,
          -0.6845243830960562,
          -1.1662275415953096,
          -0.8136732569308833,
          0.9266072585981122,
          1.1069523133687151,
          -2.461293344517293,
          -0.03834454172039011,
          -0.4088387659377719,
          -0.38957299781818583,
          0.23355993451007817,
          -0.17482426176423824,
          -2.577146247060142,
          -1.2897077891728426,
          -0.13369954494780342,
          1.5619108187176902,
          -0.8118137284953686,
          -2.6725131912598514,
          -2.438290147822952,
          -0.718209997795367,
          0.2671243214894968,
          -1.212705413937577,
          -0.5925492008549388,
          0.10314211399165779,
          -2.38071050318255,
          -0.9723303733003491,
          -0.803137730214887,
          -0.11403704012003688,
          -0.946269771216821,
          0.4182542673307343,
          -1.9075540728825207,
          -1.0974790884675703,
          -0.9669709917830023,
          -1.9434043397871896,
          -4.193785478776864,
          -0.20099477087213163,
          -0.7216028960453836,
          -0.10044691447709801,
          -0.003974239868691961,
          0.001889893492528974,
          -0.8092745518148439,
          -0.7461411830975034,
          -1.124066116211265,
          -1.278556126246382,
          -0.671609126543463,
          -1.8073404131647528,
          -0.03459264332275868,
          -1.6189770298781512,
          0.3579369374383145,
          -0.8548851434046096,
          -0.48298537898399957,
          -0.7059532661235024,
          -1.1604791465513715,
          -0.01789612397933612,
          -0.9866759516365439,
          1.2834565469175763,
          -1.3017866640468214,
          -0.9781376569919782,
          -0.7376624498122966,
          -0.8594400656127308,
          -1.075966517611613,
          -1.2803132354238105,
          -1.5972067259846168,
          -1.1777231044959757,
          -0.5822879038999409,
          -1.5955004517231712,
          -0.48230378377499894,
          -1.463433344074812,
          0.18228262431517128,
          -4.869545237035306,
          0.44025719444341965,
          -0.2548192627554629,
          -0.9354381371382594,
          -2.3465276106443023,
          -1.0515808658081085,
          -0.413835424980938,
          -1.4193155029760827,
          -1.283199278254177,
          -2.2780284207411063,
          -1.7395633043756669,
          -3.254012545838706,
          -1.0766453157867997,
          -0.3422784787594495,
          -1.0904027604903548,
          -1.6336232795378687,
          -1.0530169614210665,
          -1.0114557404476134,
          -1.5511514930235646,
          -1.1448755600734482,
          -1.0139639558473699,
          1.3628150545240711,
          -1.7407081361612753,
          -0.3881091070600623,
          -1.3571852325010483,
          -2.035522241433037,
          -1.5731068855635673,
          -1.5650523619198318,
          -0.9223499520372811,
          -0.4256808608301167,
          -0.29725124396410585,
          -1.5820515272641331,
          -1.4285973652155546,
          -2.021973388696803,
          -2.8338322911639042,
          -2.077835382363047,
          -1.9334112799344771,
          -1.416892893461152,
          -1.2337398032529774,
          0.4770957319668478,
          -0.1939347090655477,
          -1.5922254683750343,
          0.036591276755472,
          0.13896534034977656,
          -0.26097534000397743,
          0.31143782453351027,
          -0.6498796563298805,
          0.04053619108792406,
          -0.4518529940547748,
          0.2097807182051676,
          -1.294188913491777,
          0.3575051576913997,
          -0.6815526866342557,
          0.6599715113742466,
          0.28892753131483556,
          -0.4107703054109571,
          -0.7218512982963086,
          0.6947438552818328,
          0.592201412632727,
          -2.1532243008896548,
          -1.0117667920942914
         ],
         "y": [
          1.2107896181052389,
          1.7660459621182898,
          -0.46154812403864837,
          -0.6301380623446862,
          -0.022084171542164105,
          -0.8084564410591981,
          0.5408411511000458,
          -0.5447134562474506,
          0.0762767889125958,
          2.089245550523611,
          2.6216729357493835,
          0.4592588459135763,
          -0.4352235082572102,
          0.6347323202138918,
          -0.06230119704217321,
          -0.6751413502896,
          1.491382531816994,
          -1.464051852606565,
          2.146169658657222,
          2.2425467183658894,
          0.7397865367302298,
          0.4554417056742606,
          1.0010847697296137,
          -0.09788164229993178,
          -0.3454111932730788,
          0.3338785241352632,
          0.920264891229696,
          -0.8743296530196795,
          1.554630318831957,
          2.0277099167911845,
          0.12426213529256216,
          1.2312094026578941,
          1.1938681840604402,
          -0.03959421632744772,
          -0.3343294064711038,
          -0.4930040787709181,
          -0.8387164708149782,
          0.6153423267394442,
          2.65933336875754,
          -0.3495368561927167,
          1.560700324936988,
          0.1963731363489086,
          1.2398160330760377,
          2.299420715115442,
          0.43755409556948605,
          2.487964572537559,
          0.05677936194499636,
          0.3040126974316034,
          0.7439113828251548,
          1.7835896371607214,
          0.9514695538721,
          0.8213379739955825,
          0.2810913193876203,
          -0.2618922873515902,
          0.3135032316300358,
          1.0949041871713012,
          0.4803411132567863,
          0.7253925038095239,
          -0.36436151385047566,
          0.2586015610089474,
          1.4797746460099848,
          2.1881223341105387,
          1.0105517417569796,
          1.0607654855480149,
          0.7864857364052691,
          -0.5037556300413291,
          -0.7625538281346503,
          -0.3661225778161332,
          -0.5176021645243697,
          -0.059874168596921934,
          -0.19575233993331836,
          0.4700925206409548,
          0.5848480487251521,
          -1.2373928284184894,
          -0.2578042887339416,
          -0.07799678249829547,
          0.04277328744322014,
          0.6050912845396612,
          0.25377936142683577,
          -0.7169701048501058,
          0.10568370307863498,
          -0.0611443913796063,
          0.4382167243623891,
          0.5785637942680536,
          0.5182194544501745,
          -0.9828421472034868,
          -0.3826561686867576,
          0.0653408192035743,
          -0.7987853946744726,
          1.1011876392608155,
          1.1115751608601787,
          0.004890345877692464,
          0.7491179921232989,
          3.4460517005117213,
          4.23854681566951,
          0.01316247472255158,
          -0.156096334764764,
          0.2795143778794768,
          -1.0012380506153176,
          -0.8098065194549804,
          -0.1818485967316732,
          1.5954724455355935,
          2.4390663821419243,
          0.5627070117148689,
          -0.6507449597373357,
          2.209807996570904,
          -0.23916198460923807,
          -0.7718912470346805,
          0.9203241743612288,
          0.2439975571338822,
          0.814886285061436,
          -0.8643432011967432,
          0.365029873950678,
          0.2765145489883747,
          0.48403960252341194,
          -0.3927899014641357,
          -0.08414045216458568,
          -0.024275833573473016,
          -1.517679482123217,
          0.9155222104950697,
          1.5024274699574935,
          0.17989712832833551,
          1.35512593895974,
          -0.3157311040272567,
          1.3137169886208386,
          -0.7197651716142303,
          1.8002429464512428,
          1.9783675766108657,
          0.81808280345047,
          0.5522686468185013,
          0.11730818826751654,
          0.25169369081700754,
          -0.1301781108155566,
          0.3828381118665183,
          -0.24355041410195657,
          1.084329808172772,
          0.42846570310283644,
          1.5019380068704593,
          0.7672154660743938,
          -0.5362810786644115,
          0.655655045035687,
          2.198533781152204,
          1.2466765368543549,
          -0.6310123609985118,
          0.37420866283110243,
          0.19031762038451863,
          -0.3860091458078163,
          1.7293514046550045,
          1.4534957189344404,
          -0.21693237945154312,
          -0.659280287294862,
          -0.16187289434738397,
          -1.1584922263401047,
          1.6534543086407496,
          -1.0124590127862128,
          1.6136683339454,
          0.4162248131153117,
          1.1298647470551673,
          -0.24642199081446925,
          1.7227051943168148,
          1.751371362306826,
          2.274253504448601,
          -1.112724669847309,
          -0.7017773485685457,
          1.2481917302406302,
          -0.5052584014396835,
          -0.8591759891195819,
          -0.6170691234637099,
          0.2333975426891607,
          0.23751819393545445,
          0.5589637551875154,
          -1.0750406469312157,
          0.7299417694742711,
          0.3587108795612136,
          -0.7056096216106981,
          1.125606485434513,
          0.16849974288039352,
          0.19895467274170942,
          0.3205843265274161,
          0.4403756574742217,
          -0.5671150677137567,
          -0.7080389995811042,
          -0.9037431327644326,
          0.5609415685176286,
          0.08318717779164866,
          -0.2322607662383603,
          1.0120092464236614,
          3.3603843941043627,
          0.2310235417688696,
          1.452889434352959,
          0.3908015347101974,
          0.689446922859301,
          1.2539077622771893,
          1.8404757580883015,
          -0.07626620200475606,
          0.9091352867680943,
          0.7710421809833464,
          -0.4639534904092866,
          -0.404703101540693,
          -0.10986875260248058,
          1.5295170199153845,
          0.5258148628781006,
          0.7211263281211778,
          -1.3804179171707645,
          0.551216210973143,
          -0.6074329309429826,
          -0.9429702538630703,
          -1.602941202261814,
          -0.8345569132077725,
          -0.15518034770072256,
          -0.6824597543603728,
          0.48722511336812596,
          -0.6890880749319404,
          1.2009046069409075,
          0.36599671146544277,
          -0.046141024680944547,
          -1.5012615551328334,
          0.8436070533847346,
          -0.7765648485311277,
          0.4775333931086859,
          1.2340318678985096,
          -0.4309920389305067,
          1.669519249791468,
          0.5419332746990221,
          -0.39985980059857484,
          0.6898386251237494,
          -0.13283403126494328,
          0.40093536276743774,
          0.37466997287478987,
          -0.1526438629392101,
          -1.3369279558411562,
          1.4843284382033912,
          -0.06887740674448642,
          -0.028250627654464316,
          0.9567103461187144,
          0.33313773263917995,
          -0.275243647111968,
          0.2924720043586292,
          2.0368269605627827,
          -0.41314750220871843,
          -0.8111169349318219,
          0.9214842720243607,
          -0.22577599261445905,
          1.5515454001308828,
          0.2665298847117447,
          0.3408920704970336,
          1.5623493939188924,
          0.12019196805063984,
          0.01503657440371768,
          0.38087728552904865,
          0.1771675481441143,
          1.7212355105611803,
          2.099433710842771,
          -0.9576921495297469,
          -0.2420518619716954,
          1.4494600587131423,
          -0.7232885518952011,
          -0.1532855075058928,
          0.04553748277394912,
          2.271129675336348,
          1.6972804904618826,
          0.45278454533107587
         ],
         "z": [
          0.2521406095207478,
          0.3126979999724044,
          -0.6731222244446705,
          -0.10707160633844245,
          -0.4509863573279218,
          -0.4717352888566635,
          1.1246129715477964,
          -0.5265191093000744,
          0.14379849824907986,
          0.15012586964131042,
          0.5238532408396035,
          0.11024962049523668,
          -0.1774730260025387,
          -0.7404683303274946,
          0.5350981994370032,
          -0.7718420352894526,
          -0.5011676367044722,
          0.4439513470551683,
          0.2303275899157305,
          0.45704053814772777,
          0.7689877216868899,
          -0.694472809696467,
          -0.025632481451149387,
          0.16786603288869184,
          -0.34470379935990986,
          0.38160926123302763,
          1.1299705332742012,
          -0.8701078194002145,
          0.16020437257337067,
          0.8470816572972367,
          -0.7148500609337568,
          -0.7349391319237678,
          1.1360210521758416,
          0.9978114795358355,
          -0.8200517142776712,
          0.9992056568257193,
          -0.06482680834228764,
          -0.32427520370176477,
          0.5987679824720583,
          -1.382366557699014,
          0.2166254072784683,
          -0.17806347780112675,
          -0.020377638587088416,
          0.7739781173560357,
          -0.4135599396427509,
          -0.4928010570429517,
          -0.5532588526425511,
          0.23711196624130554,
          0.4890579099396494,
          0.3352339546989843,
          0.1961120012828153,
          0.20572382421088764,
          -0.12077637059816497,
          -0.7853416832388901,
          0.25515701287337084,
          -0.22696857067345885,
          -0.004027257587311964,
          0.05130864401184442,
          -0.1718407304953245,
          0.7066096609268201,
          -0.21080460923623762,
          -1.0843277609658415,
          -0.521643984201756,
          -0.05585912812679145,
          0.3394955237588609,
          -0.7564141670888216,
          -0.1645179195332621,
          0.19229783213306392,
          -0.18817854445661505,
          0.6191388487924137,
          0.2148011484482282,
          -0.09931709803272294,
          -0.44545611483813413,
          -1.0482857909624046,
          0.09553356819752924,
          -0.35477417975117614,
          0.17912785174260032,
          0.05911328907010321,
          0.11097868268081604,
          1.40223166927677,
          -1.0941927307224217,
          0.808875148521768,
          -0.6800433225865269,
          1.378733833241434,
          -0.32816613047956616,
          0.2475115878568584,
          0.2840605462743517,
          0.5179076579476444,
          1.9286669407640642,
          -1.7400598452169254,
          0.747542017245377,
          -0.45804048813847664,
          1.0294377897777782,
          -0.4741206339004291,
          1.2803879452212668,
          -0.33550618801605603,
          0.5780814198739745,
          -1.57163567645656,
          -0.9236526961045166,
          0.02546955147515672,
          0.40130193358940197,
          0.0545452078366711,
          -0.05089180977719172,
          -0.3275748889216874,
          -0.4225530505549411,
          0.547425951380836,
          1.456787193114062,
          -0.15209857805123994,
          0.4039667771757429,
          0.7195895836866368,
          0.12060573313744967,
          -0.2746564704717425,
          0.14767914944042831,
          -0.07447887894907947,
          0.6503719190544641,
          0.38290654222882514,
          -0.2656712454997406,
          0.4052098743337981,
          -0.05541228657997083,
          0.06878841421926161,
          0.20862995587062566,
          -0.37841869946049117,
          0.39827049435562156,
          -0.6184884435616549,
          0.3818028075151442,
          -0.12129884072108578,
          -0.2660305141744826,
          0.13234060487747618,
          -0.24511875537330807,
          -0.4430529836437145,
          -0.0810953279975086,
          0.32688291109160844,
          -0.46567232723588586,
          -0.6107712537204829,
          0.5331445319781981,
          0.5822895164276465,
          -0.45001496201262287,
          0.3732135496310388,
          -0.35161563806176704,
          -0.5995396032707198,
          -0.04675502706433508,
          -0.07917898405885433,
          -1.0178652592792066,
          -0.2685056353543683,
          -0.10922200126432936,
          -0.40413900312345086,
          -0.02877512608589434,
          0.5931972860854838,
          0.4738841104410243,
          -0.698813781682728,
          -0.9360902328370413,
          1.1723424548591261,
          1.4099514766857948,
          -0.012633740369772337,
          1.2436727876442628,
          -0.03496146351946212,
          -0.8097651066427993,
          0.2622502674875829,
          0.744999759207878,
          -0.6184755247506716,
          -0.11926854807166005,
          -0.5700125187075356,
          -2.6757989421610664,
          -0.932862466984134,
          -0.08585429146527533,
          -0.6844153445064332,
          -1.9990192458583291,
          0.8362828227675532,
          0.13586132963948783,
          0.5138237083166656,
          -0.04391197880440129,
          -0.7833033765414386,
          -0.3081640025877917,
          -0.1621977043977335,
          0.14423818269392782,
          0.36699023400674474,
          -1.7033758385981894,
          -0.4127664920291088,
          0.004293002907720436,
          0.5218507190864738,
          1.1206582245183345,
          -1.7408042297870774,
          0.8096869210959916,
          0.19896237857906665,
          -1.0298543908349473,
          -0.6025450157476857,
          -0.16139599143275643,
          0.03588957402636322,
          0.45404403132709603,
          0.14363744506643308,
          0.15361195621079382,
          0.16043575892860978,
          0.4368680798260227,
          0.6323390005474978,
          0.06781209487938535,
          0.06013827747825492,
          0.956552662556952,
          0.24493365919301724,
          0.2538944310482023,
          0.7422681434301923,
          0.20242128504593843,
          0.32959479735528013,
          1.8822845968627668,
          1.1221712266008406,
          -0.5791203048105986,
          0.26650669948007355,
          0.7399896989953665,
          -0.313944243740226,
          0.37792308474980146,
          -0.18944088850253926,
          0.2807354961781929,
          -0.3544168270405548,
          0.19884824927237715,
          -0.3694838512760868,
          1.4409092988202374,
          0.18509128988344092,
          -1.0157063674411175,
          -0.20619061394435434,
          0.9135680201561344,
          -1.0516450025548973,
          -0.4551167792270518,
          0.27019621631489366,
          0.6615123942724233,
          0.2811004613593436,
          0.9839199704841072,
          -0.09725840795503023,
          -0.13965280682544315,
          0.08319032777384648,
          0.7238065121729089,
          1.208016303168124,
          1.2357397601924978,
          -0.5169725759502987,
          -0.2666402885310499,
          -0.5354397993727651,
          0.16663103406654253,
          -0.3196627031470459,
          -0.2215604471653776,
          0.7247822235652006,
          0.18536005701996372,
          -0.5942657987061766,
          -1.1813730234547946,
          -0.5269789493269866,
          -0.1704953990811767,
          -0.5893358060707253,
          0.41156208101606767,
          1.624936471805327,
          0.6165124692710738,
          -0.5221329177149902,
          0.2410111466710117,
          -0.31051710629473694,
          -0.629713042783382,
          0.5302889669799685,
          -0.5664486928994658,
          0.912611017148976,
          0.8471271269998826,
          0.0876734988318887,
          -0.8699923926570243,
          1.083619990170221,
          -0.5752686703239615,
          -0.19166066805364612,
          0.3284972822108165,
          0.6604578751679291
         ]
        },
        {
         "hovertemplate": "HierCluster=%{marker.color}<br>PCA1=%{x}<br>PCA2=%{y}<br>PCA3=%{z}<extra></extra>",
         "legendgroup": "1",
         "marker": {
          "color": [
           1,
           1,
           1,
           1,
           1,
           1,
           1,
           1,
           1,
           1,
           1,
           1,
           1,
           1,
           1,
           1,
           1,
           1,
           1,
           1,
           1,
           1,
           1,
           1,
           1,
           1,
           1,
           1,
           1,
           1,
           1,
           1,
           1,
           1,
           1,
           1,
           1,
           1,
           1,
           1,
           1,
           1,
           1,
           1,
           1,
           1,
           1,
           1,
           1,
           1,
           1,
           1,
           1
          ],
          "coloraxis": "coloraxis",
          "line": {
           "color": "black",
           "width": 0.5
          },
          "opacity": 0.8,
          "size": 5,
          "symbol": "square"
         },
         "mode": "markers",
         "name": "1",
         "scene": "scene",
         "showlegend": true,
         "type": "scatter3d",
         "x": [
          0.5664784057970227,
          1.383094176219319,
          2.0465959558922613,
          0.9847356616137113,
          0.5621876238123635,
          1.6803209282639626,
          0.775949516938475,
          0.42195643798486776,
          1.956638222061582,
          0.15170867899654236,
          1.6911485219569662,
          0.2769161446015857,
          1.0701190764288246,
          -3.3888659858173225,
          -3.571329123262721,
          1.0432049685159175,
          0.8053769475989165,
          0.08945194567651034,
          -2.9953613284647145,
          0.2999280953504849,
          -1.613663818020875,
          -5.644452037992016,
          1.908180001910221,
          0.9395492149482663,
          1.7984244335912916,
          1.5683165622840856,
          -1.1220612285046483,
          0.2935891434071047,
          1.348830826322551,
          -1.4818779856520399,
          0.5669482708799292,
          1.4400869328794164,
          0.6577580831016855,
          -0.8046251741068924,
          0.11237611406329501,
          -2.5496593676528025,
          0.5634082466400154,
          -1.2622072278808596,
          1.143894515408185,
          1.566599102357367,
          1.5456040966349796,
          -1.689365838313709,
          -2.0301047591738874,
          1.7711792335730767,
          -1.8662323812317907,
          -1.5646521247564413,
          1.2686786442427544,
          0.6480566578711324,
          0.4301633075083019,
          1.0985924932938609,
          0.629508009196495,
          0.16042602155153793,
          -0.9156408925598087
         ],
         "y": [
          -1.641226428955328,
          -1.8729974107944776,
          -2.146594711795687,
          -1.285206352414628,
          -1.4832469661488028,
          -1.792186631589759,
          -1.7170177130317754,
          -5.091318627636234,
          -2.7338300970852836,
          -0.6767441910442363,
          -1.3442410377109084,
          -3.5169127978163637,
          -3.9233165857642036,
          -2.619196391113195,
          -2.266485667296624,
          -2.936762835932479,
          -0.17444140027933408,
          -4.653280666588694,
          -1.582068571663758,
          -1.7938372867629608,
          -0.8805198735402128,
          -4.418146790651512,
          -2.1405919990606392,
          -0.27307583655054346,
          -1.7441231803779202,
          -2.0726840967843305,
          -4.392765176629825,
          -1.8324249161693154,
          0.1275956804238071,
          -3.20269294023834,
          -0.8452848513274186,
          -1.7948553521895778,
          -0.4800460112029784,
          -2.760084783733114,
          -0.9133586647175952,
          -1.420696934238029,
          -0.1316240606628479,
          -2.422670355714743,
          -2.0090026950933852,
          -2.023244376031317,
          -1.315888401008035,
          -1.796462671321789,
          -2.1364645263206836,
          -1.8131932836906262,
          -1.8080231551572912,
          -3.0919031867974387,
          -4.158059594984573,
          -1.8436683069731408,
          -0.207296620326069,
          -3.997587372761173,
          -0.387596581069044,
          -0.4053557018183163,
          -2.9182610774233173
         ],
         "z": [
          -2.10153158756747,
          -2.2295970347869147,
          -0.887920568544351,
          -1.911427722160122,
          -0.36712212084367973,
          0.007692890917938946,
          -1.0341332209261784,
          0.7969899487038905,
          0.11276794324255394,
          -1.506856455987751,
          -0.9799951381531793,
          3.294293898315882,
          1.5119871710280441,
          0.5331154050012954,
          0.8676355734987116,
          -2.632887250575207,
          -1.4682175247914129,
          -1.346876071329033,
          0.7092119637179155,
          -1.5074019368056142,
          -3.4420340998691112,
          -0.21201255700020133,
          0.27737421941630497,
          -0.9006205741542261,
          0.45037829741261176,
          -0.3356115155083645,
          -0.8220642114375598,
          -2.8948325537357324,
          -0.9032687814057613,
          -0.857304690209503,
          -0.9415167201842172,
          -0.8971500625597782,
          0.03557012875635173,
          -1.6583494311513598,
          -0.039046485949399475,
          1.2334177977794842,
          -0.549580492125831,
          0.8713089756223512,
          -1.471985030027635,
          0.3379764681264735,
          -1.0166294264877367,
          1.33248876325393,
          3.5352317866687066,
          -1.7298045977024417,
          0.7126665573652069,
          0.9112730415498413,
          0.7965519684143766,
          -0.7202964252601681,
          -0.7707671003036729,
          0.1666022064271951,
          -1.3316202581839658,
          -0.24857918724580985,
          -0.9249211044872756
         ]
        }
       ],
       "layout": {
        "coloraxis": {
         "colorbar": {
          "title": {
           "text": "HierCluster"
          }
         },
         "colorscale": [
          [
           0,
           "#0d0887"
          ],
          [
           0.1111111111111111,
           "#46039f"
          ],
          [
           0.2222222222222222,
           "#7201a8"
          ],
          [
           0.3333333333333333,
           "#9c179e"
          ],
          [
           0.4444444444444444,
           "#bd3786"
          ],
          [
           0.5555555555555556,
           "#d8576b"
          ],
          [
           0.6666666666666666,
           "#ed7953"
          ],
          [
           0.7777777777777778,
           "#fb9f3a"
          ],
          [
           0.8888888888888888,
           "#fdca26"
          ],
          [
           1,
           "#f0f921"
          ]
         ]
        },
        "legend": {
         "title": {
          "text": "HierCluster"
         },
         "tracegroupgap": 0
        },
        "margin": {
         "t": 60
        },
        "scene": {
         "domain": {
          "x": [
           0,
           1
          ],
          "y": [
           0,
           1
          ]
         },
         "xaxis": {
          "title": {
           "text": "PCA1"
          }
         },
         "yaxis": {
          "title": {
           "text": "PCA2"
          }
         },
         "zaxis": {
          "title": {
           "text": "PCA3"
          }
         }
        },
        "template": {
         "data": {
          "bar": [
           {
            "error_x": {
             "color": "#2a3f5f"
            },
            "error_y": {
             "color": "#2a3f5f"
            },
            "marker": {
             "line": {
              "color": "#E5ECF6",
              "width": 0.5
             },
             "pattern": {
              "fillmode": "overlay",
              "size": 10,
              "solidity": 0.2
             }
            },
            "type": "bar"
           }
          ],
          "barpolar": [
           {
            "marker": {
             "line": {
              "color": "#E5ECF6",
              "width": 0.5
             },
             "pattern": {
              "fillmode": "overlay",
              "size": 10,
              "solidity": 0.2
             }
            },
            "type": "barpolar"
           }
          ],
          "carpet": [
           {
            "aaxis": {
             "endlinecolor": "#2a3f5f",
             "gridcolor": "white",
             "linecolor": "white",
             "minorgridcolor": "white",
             "startlinecolor": "#2a3f5f"
            },
            "baxis": {
             "endlinecolor": "#2a3f5f",
             "gridcolor": "white",
             "linecolor": "white",
             "minorgridcolor": "white",
             "startlinecolor": "#2a3f5f"
            },
            "type": "carpet"
           }
          ],
          "choropleth": [
           {
            "colorbar": {
             "outlinewidth": 0,
             "ticks": ""
            },
            "type": "choropleth"
           }
          ],
          "contour": [
           {
            "colorbar": {
             "outlinewidth": 0,
             "ticks": ""
            },
            "colorscale": [
             [
              0,
              "#0d0887"
             ],
             [
              0.1111111111111111,
              "#46039f"
             ],
             [
              0.2222222222222222,
              "#7201a8"
             ],
             [
              0.3333333333333333,
              "#9c179e"
             ],
             [
              0.4444444444444444,
              "#bd3786"
             ],
             [
              0.5555555555555556,
              "#d8576b"
             ],
             [
              0.6666666666666666,
              "#ed7953"
             ],
             [
              0.7777777777777778,
              "#fb9f3a"
             ],
             [
              0.8888888888888888,
              "#fdca26"
             ],
             [
              1,
              "#f0f921"
             ]
            ],
            "type": "contour"
           }
          ],
          "contourcarpet": [
           {
            "colorbar": {
             "outlinewidth": 0,
             "ticks": ""
            },
            "type": "contourcarpet"
           }
          ],
          "heatmap": [
           {
            "colorbar": {
             "outlinewidth": 0,
             "ticks": ""
            },
            "colorscale": [
             [
              0,
              "#0d0887"
             ],
             [
              0.1111111111111111,
              "#46039f"
             ],
             [
              0.2222222222222222,
              "#7201a8"
             ],
             [
              0.3333333333333333,
              "#9c179e"
             ],
             [
              0.4444444444444444,
              "#bd3786"
             ],
             [
              0.5555555555555556,
              "#d8576b"
             ],
             [
              0.6666666666666666,
              "#ed7953"
             ],
             [
              0.7777777777777778,
              "#fb9f3a"
             ],
             [
              0.8888888888888888,
              "#fdca26"
             ],
             [
              1,
              "#f0f921"
             ]
            ],
            "type": "heatmap"
           }
          ],
          "heatmapgl": [
           {
            "colorbar": {
             "outlinewidth": 0,
             "ticks": ""
            },
            "colorscale": [
             [
              0,
              "#0d0887"
             ],
             [
              0.1111111111111111,
              "#46039f"
             ],
             [
              0.2222222222222222,
              "#7201a8"
             ],
             [
              0.3333333333333333,
              "#9c179e"
             ],
             [
              0.4444444444444444,
              "#bd3786"
             ],
             [
              0.5555555555555556,
              "#d8576b"
             ],
             [
              0.6666666666666666,
              "#ed7953"
             ],
             [
              0.7777777777777778,
              "#fb9f3a"
             ],
             [
              0.8888888888888888,
              "#fdca26"
             ],
             [
              1,
              "#f0f921"
             ]
            ],
            "type": "heatmapgl"
           }
          ],
          "histogram": [
           {
            "marker": {
             "pattern": {
              "fillmode": "overlay",
              "size": 10,
              "solidity": 0.2
             }
            },
            "type": "histogram"
           }
          ],
          "histogram2d": [
           {
            "colorbar": {
             "outlinewidth": 0,
             "ticks": ""
            },
            "colorscale": [
             [
              0,
              "#0d0887"
             ],
             [
              0.1111111111111111,
              "#46039f"
             ],
             [
              0.2222222222222222,
              "#7201a8"
             ],
             [
              0.3333333333333333,
              "#9c179e"
             ],
             [
              0.4444444444444444,
              "#bd3786"
             ],
             [
              0.5555555555555556,
              "#d8576b"
             ],
             [
              0.6666666666666666,
              "#ed7953"
             ],
             [
              0.7777777777777778,
              "#fb9f3a"
             ],
             [
              0.8888888888888888,
              "#fdca26"
             ],
             [
              1,
              "#f0f921"
             ]
            ],
            "type": "histogram2d"
           }
          ],
          "histogram2dcontour": [
           {
            "colorbar": {
             "outlinewidth": 0,
             "ticks": ""
            },
            "colorscale": [
             [
              0,
              "#0d0887"
             ],
             [
              0.1111111111111111,
              "#46039f"
             ],
             [
              0.2222222222222222,
              "#7201a8"
             ],
             [
              0.3333333333333333,
              "#9c179e"
             ],
             [
              0.4444444444444444,
              "#bd3786"
             ],
             [
              0.5555555555555556,
              "#d8576b"
             ],
             [
              0.6666666666666666,
              "#ed7953"
             ],
             [
              0.7777777777777778,
              "#fb9f3a"
             ],
             [
              0.8888888888888888,
              "#fdca26"
             ],
             [
              1,
              "#f0f921"
             ]
            ],
            "type": "histogram2dcontour"
           }
          ],
          "mesh3d": [
           {
            "colorbar": {
             "outlinewidth": 0,
             "ticks": ""
            },
            "type": "mesh3d"
           }
          ],
          "parcoords": [
           {
            "line": {
             "colorbar": {
              "outlinewidth": 0,
              "ticks": ""
             }
            },
            "type": "parcoords"
           }
          ],
          "pie": [
           {
            "automargin": true,
            "type": "pie"
           }
          ],
          "scatter": [
           {
            "fillpattern": {
             "fillmode": "overlay",
             "size": 10,
             "solidity": 0.2
            },
            "type": "scatter"
           }
          ],
          "scatter3d": [
           {
            "line": {
             "colorbar": {
              "outlinewidth": 0,
              "ticks": ""
             }
            },
            "marker": {
             "colorbar": {
              "outlinewidth": 0,
              "ticks": ""
             }
            },
            "type": "scatter3d"
           }
          ],
          "scattercarpet": [
           {
            "marker": {
             "colorbar": {
              "outlinewidth": 0,
              "ticks": ""
             }
            },
            "type": "scattercarpet"
           }
          ],
          "scattergeo": [
           {
            "marker": {
             "colorbar": {
              "outlinewidth": 0,
              "ticks": ""
             }
            },
            "type": "scattergeo"
           }
          ],
          "scattergl": [
           {
            "marker": {
             "colorbar": {
              "outlinewidth": 0,
              "ticks": ""
             }
            },
            "type": "scattergl"
           }
          ],
          "scattermapbox": [
           {
            "marker": {
             "colorbar": {
              "outlinewidth": 0,
              "ticks": ""
             }
            },
            "type": "scattermapbox"
           }
          ],
          "scatterpolar": [
           {
            "marker": {
             "colorbar": {
              "outlinewidth": 0,
              "ticks": ""
             }
            },
            "type": "scatterpolar"
           }
          ],
          "scatterpolargl": [
           {
            "marker": {
             "colorbar": {
              "outlinewidth": 0,
              "ticks": ""
             }
            },
            "type": "scatterpolargl"
           }
          ],
          "scatterternary": [
           {
            "marker": {
             "colorbar": {
              "outlinewidth": 0,
              "ticks": ""
             }
            },
            "type": "scatterternary"
           }
          ],
          "surface": [
           {
            "colorbar": {
             "outlinewidth": 0,
             "ticks": ""
            },
            "colorscale": [
             [
              0,
              "#0d0887"
             ],
             [
              0.1111111111111111,
              "#46039f"
             ],
             [
              0.2222222222222222,
              "#7201a8"
             ],
             [
              0.3333333333333333,
              "#9c179e"
             ],
             [
              0.4444444444444444,
              "#bd3786"
             ],
             [
              0.5555555555555556,
              "#d8576b"
             ],
             [
              0.6666666666666666,
              "#ed7953"
             ],
             [
              0.7777777777777778,
              "#fb9f3a"
             ],
             [
              0.8888888888888888,
              "#fdca26"
             ],
             [
              1,
              "#f0f921"
             ]
            ],
            "type": "surface"
           }
          ],
          "table": [
           {
            "cells": {
             "fill": {
              "color": "#EBF0F8"
             },
             "line": {
              "color": "white"
             }
            },
            "header": {
             "fill": {
              "color": "#C8D4E3"
             },
             "line": {
              "color": "white"
             }
            },
            "type": "table"
           }
          ]
         },
         "layout": {
          "annotationdefaults": {
           "arrowcolor": "#2a3f5f",
           "arrowhead": 0,
           "arrowwidth": 1
          },
          "autotypenumbers": "strict",
          "coloraxis": {
           "colorbar": {
            "outlinewidth": 0,
            "ticks": ""
           }
          },
          "colorscale": {
           "diverging": [
            [
             0,
             "#8e0152"
            ],
            [
             0.1,
             "#c51b7d"
            ],
            [
             0.2,
             "#de77ae"
            ],
            [
             0.3,
             "#f1b6da"
            ],
            [
             0.4,
             "#fde0ef"
            ],
            [
             0.5,
             "#f7f7f7"
            ],
            [
             0.6,
             "#e6f5d0"
            ],
            [
             0.7,
             "#b8e186"
            ],
            [
             0.8,
             "#7fbc41"
            ],
            [
             0.9,
             "#4d9221"
            ],
            [
             1,
             "#276419"
            ]
           ],
           "sequential": [
            [
             0,
             "#0d0887"
            ],
            [
             0.1111111111111111,
             "#46039f"
            ],
            [
             0.2222222222222222,
             "#7201a8"
            ],
            [
             0.3333333333333333,
             "#9c179e"
            ],
            [
             0.4444444444444444,
             "#bd3786"
            ],
            [
             0.5555555555555556,
             "#d8576b"
            ],
            [
             0.6666666666666666,
             "#ed7953"
            ],
            [
             0.7777777777777778,
             "#fb9f3a"
            ],
            [
             0.8888888888888888,
             "#fdca26"
            ],
            [
             1,
             "#f0f921"
            ]
           ],
           "sequentialminus": [
            [
             0,
             "#0d0887"
            ],
            [
             0.1111111111111111,
             "#46039f"
            ],
            [
             0.2222222222222222,
             "#7201a8"
            ],
            [
             0.3333333333333333,
             "#9c179e"
            ],
            [
             0.4444444444444444,
             "#bd3786"
            ],
            [
             0.5555555555555556,
             "#d8576b"
            ],
            [
             0.6666666666666666,
             "#ed7953"
            ],
            [
             0.7777777777777778,
             "#fb9f3a"
            ],
            [
             0.8888888888888888,
             "#fdca26"
            ],
            [
             1,
             "#f0f921"
            ]
           ]
          },
          "colorway": [
           "#636efa",
           "#EF553B",
           "#00cc96",
           "#ab63fa",
           "#FFA15A",
           "#19d3f3",
           "#FF6692",
           "#B6E880",
           "#FF97FF",
           "#FECB52"
          ],
          "font": {
           "color": "#2a3f5f"
          },
          "geo": {
           "bgcolor": "white",
           "lakecolor": "white",
           "landcolor": "#E5ECF6",
           "showlakes": true,
           "showland": true,
           "subunitcolor": "white"
          },
          "hoverlabel": {
           "align": "left"
          },
          "hovermode": "closest",
          "mapbox": {
           "style": "light"
          },
          "paper_bgcolor": "white",
          "plot_bgcolor": "#E5ECF6",
          "polar": {
           "angularaxis": {
            "gridcolor": "white",
            "linecolor": "white",
            "ticks": ""
           },
           "bgcolor": "#E5ECF6",
           "radialaxis": {
            "gridcolor": "white",
            "linecolor": "white",
            "ticks": ""
           }
          },
          "scene": {
           "xaxis": {
            "backgroundcolor": "#E5ECF6",
            "gridcolor": "white",
            "gridwidth": 2,
            "linecolor": "white",
            "showbackground": true,
            "ticks": "",
            "zerolinecolor": "white"
           },
           "yaxis": {
            "backgroundcolor": "#E5ECF6",
            "gridcolor": "white",
            "gridwidth": 2,
            "linecolor": "white",
            "showbackground": true,
            "ticks": "",
            "zerolinecolor": "white"
           },
           "zaxis": {
            "backgroundcolor": "#E5ECF6",
            "gridcolor": "white",
            "gridwidth": 2,
            "linecolor": "white",
            "showbackground": true,
            "ticks": "",
            "zerolinecolor": "white"
           }
          },
          "shapedefaults": {
           "line": {
            "color": "#2a3f5f"
           }
          },
          "ternary": {
           "aaxis": {
            "gridcolor": "white",
            "linecolor": "white",
            "ticks": ""
           },
           "baxis": {
            "gridcolor": "white",
            "linecolor": "white",
            "ticks": ""
           },
           "bgcolor": "#E5ECF6",
           "caxis": {
            "gridcolor": "white",
            "linecolor": "white",
            "ticks": ""
           }
          },
          "title": {
           "x": 0.05
          },
          "xaxis": {
           "automargin": true,
           "gridcolor": "white",
           "linecolor": "white",
           "ticks": "",
           "title": {
            "standoff": 15
           },
           "zerolinecolor": "white",
           "zerolinewidth": 2
          },
          "yaxis": {
           "automargin": true,
           "gridcolor": "white",
           "linecolor": "white",
           "ticks": "",
           "title": {
            "standoff": 15
           },
           "zerolinecolor": "white",
           "zerolinewidth": 2
          }
         }
        },
        "title": {
         "text": "Hierarchical Clustering Visualized in 3D PCA Space"
        }
       }
      }
     },
     "metadata": {},
     "output_type": "display_data"
    }
   ],
   "source": [
    "import plotly.express as px\n",
    "from sklearn.decomposition import PCA\n",
    "import pandas as pd\n",
    "pca3 = PCA(n_components=3, random_state=42)\n",
    "pca_result_3d = pca3.fit_transform(X_scaled)\n",
    "\n",
    "pca3_df = pd.DataFrame(pca_result_3d, columns=[\"PCA1\", \"PCA2\", \"PCA3\"])\n",
    "pca3_df[\"HierCluster\"] = labels_hc \n",
    "fig = px.scatter_3d(\n",
    "    pca3_df,\n",
    "    x=\"PCA1\", y=\"PCA2\", z=\"PCA3\",\n",
    "    color=\"HierCluster\",\n",
    "    symbol=\"HierCluster\",  \n",
    "    opacity=0.8\n",
    ")\n",
    "\n",
    "fig.update_traces(marker=dict(size=5, line=dict(width=0.5, color=\"black\")))\n",
    "fig.update_layout(\n",
    "    title=\"Hierarchical Clustering Visualized in 3D PCA Space\",\n",
    "    scene=dict(\n",
    "        xaxis_title=\"PCA1\",\n",
    "        yaxis_title=\"PCA2\",\n",
    "        zaxis_title=\"PCA3\"\n",
    "    )\n",
    ")\n",
    "\n",
    "fig.show()\n"
   ]
  }
 ],
 "metadata": {
  "kernelspec": {
   "display_name": "base",
   "language": "python",
   "name": "python3"
  },
  "language_info": {
   "codemirror_mode": {
    "name": "ipython",
    "version": 3
   },
   "file_extension": ".py",
   "mimetype": "text/x-python",
   "name": "python",
   "nbconvert_exporter": "python",
   "pygments_lexer": "ipython3",
   "version": "3.13.5"
  }
 },
 "nbformat": 4,
 "nbformat_minor": 5
}
